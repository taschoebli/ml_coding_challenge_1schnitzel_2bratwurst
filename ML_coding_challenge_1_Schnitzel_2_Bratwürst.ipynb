{
  "cells": [
    {
      "cell_type": "markdown",
      "metadata": {
        "id": "view-in-github",
        "colab_type": "text"
      },
      "source": [
        "<a href=\"https://colab.research.google.com/github/taschoebli/ml_coding_challenge_1schnitzel_2bratwurst/blob/main/ML_coding_challenge_1_Schnitzel_2_Bratw%C3%BCrst.ipynb\" target=\"_parent\"><img src=\"https://colab.research.google.com/assets/colab-badge.svg\" alt=\"Open In Colab\"/></a>"
      ]
    },
    {
      "cell_type": "markdown",
      "metadata": {
        "id": "gooyqIC0C3uH"
      },
      "source": [
        "<img align=\"center\" style=\"max-width: 900px; height: auto\" src=\"https://github.com/HSG-AIML-Teaching/ML2024-Lab/blob/main/banner.png?raw=1\">"
      ]
    },
    {
      "cell_type": "markdown",
      "metadata": {
        "id": "LICf7s95C3uL"
      },
      "source": [
        "###  Coding Challenge - Getting Started\n",
        "\n",
        "<img align=\"right\" style=\"max-width: 200px; height: auto\" src=\"https://github.com/HSG-AIML-Teaching/ML2024-Lab/blob/main/cc_1/hsg_logo.png?raw=1\">\n",
        "<img align=\"center\" style=\"max-width: 300px; height: auto\" src=\"https://github.com/HSG-AIML-Teaching/ML2024-Lab/blob/main/cc_1/sentinel2.jpg?raw=1\">\n",
        "\n",
        "8,860,1.00 MCS Machine Learning, Spring Term 2024, University of St.Gallen (HSG)\n",
        "\n",
        "The lab environment of the **8,860,1.00 Machine Learning** course is powered by Jupyter Notebooks (https://jupyter.org), which allows one to perform a great deal of data analysis and statistical validation. In this first lab, we want to touch on the basic concepts and techniques of such notebooks. Furthermore, its capabilities will be demonstrated based on a few simple and introductory examples."
      ]
    },
    {
      "cell_type": "markdown",
      "metadata": {
        "id": "rDU4et09C3uN"
      },
      "source": [
        "### Objectives:"
      ]
    },
    {
      "cell_type": "markdown",
      "metadata": {
        "id": "OwQOk9XUC3uN"
      },
      "source": [
        "With the help of this notebook you should be able to:\n",
        "    \n",
        "> 1. Understand the basic funcitonality of the rasterio framework\n",
        "> 2. Apply rasterio to load GTiff data\n",
        "> 3. Visualize multi-band satellite imagery\n",
        "> 4. Perform basic band arithmetic to compute the normalized difference vegetation index (NDVI)\n",
        "> 5. Load and display samples from the challenge testset"
      ]
    },
    {
      "cell_type": "markdown",
      "metadata": {
        "id": "YxXuPMrJC3uN"
      },
      "source": [
        "## 2. Setup of the Jupyter Notebook Environment"
      ]
    },
    {
      "cell_type": "markdown",
      "source": [
        "How to download kaggle data in Google Colab\n",
        "\n",
        "https://www.kaggle.com/discussions/general/74235"
      ],
      "metadata": {
        "id": "hqTcZbGXPDiK"
      }
    },
    {
      "cell_type": "code",
      "source": [
        "!pip install -q kaggle"
      ],
      "metadata": {
        "id": "veJni06jPNfN"
      },
      "execution_count": null,
      "outputs": []
    },
    {
      "cell_type": "code",
      "source": [
        "#create kaggle folder with access key\n",
        "from google.colab import files\n",
        "files.upload()\n",
        "!mkdir ~/.kaggle\n",
        "!cp kaggle.json ~/.kaggle/\n",
        "!chmod 600 ~/.kaggle/kaggle.json\n",
        "!kaggle datasets list"
      ],
      "metadata": {
        "id": "W_uYjKMOPR7h"
      },
      "execution_count": null,
      "outputs": []
    },
    {
      "cell_type": "code",
      "source": [
        "#get testdata (inside zip folder)\n",
        "!kaggle competitions download -c aiml-coding-challenge-fs24"
      ],
      "metadata": {
        "id": "ALjNRHfgQHkf"
      },
      "execution_count": null,
      "outputs": []
    },
    {
      "cell_type": "code",
      "source": [
        "#create directory\n",
        "!mkdir testdata\n",
        "\n",
        "#unzip the data\n",
        "!unzip aiml-coding-challenge-fs24.zip -d testdata\n"
      ],
      "metadata": {
        "id": "NABoedKHQeaS"
      },
      "execution_count": null,
      "outputs": []
    },
    {
      "cell_type": "markdown",
      "metadata": {
        "id": "q3XqDSnnC3uO"
      },
      "source": [
        "Similar to the previous labs, we need to import a couple of Python libraries that allow for data analysis and data visualization. We will use `os` and `glob` to collect the filepaths for the data samples, `numpy` for array operations, `matplotlib` to display images, and `rasterio` to handle raster data. You can find the documentation of the `rasterio` library with an overview of its functionality [here](https://rasterio.readthedocs.io)."
      ]
    },
    {
      "cell_type": "code",
      "source": [
        "!pip install rasterio"
      ],
      "metadata": {
        "id": "CVbZyTKkVbTX"
      },
      "execution_count": null,
      "outputs": []
    },
    {
      "cell_type": "code",
      "execution_count": null,
      "metadata": {
        "id": "3cEWTpuEC3uO"
      },
      "outputs": [],
      "source": [
        "import fnmatch\n",
        "import glob\n",
        "import numpy as np\n",
        "import os\n",
        "import rasterio as rio\n",
        "from rasterio.plot import reshape_as_image\n",
        "import matplotlib.pyplot as plt\n",
        "%matplotlib inline"
      ]
    },
    {
      "cell_type": "markdown",
      "metadata": {
        "id": "v8OCCyEOC3uQ"
      },
      "source": [
        "### Dataset Download\n",
        "<img align=\"center\" style=\"max-width: 300px; height: auto\" src=\"https://github.com/HSG-AIML-Teaching/ML2024-Lab/blob/main/cc_1/eurosat.png?raw=1\">"
      ]
    },
    {
      "cell_type": "markdown",
      "metadata": {
        "id": "w_O16GlJC3uR"
      },
      "source": [
        "The Eurosat dataset is available on [github](https://github.com/phelber/EuroSAT). You can download and unpack the data from there. Note that this repository includes RGB and multi-spectral versions of Eurosat. Note that the testdata is multi-spectral.\n",
        "\n",
        "The multi-spectral (MS) version can be downloaded with the following command:"
      ]
    },
    {
      "cell_type": "code",
      "execution_count": null,
      "metadata": {
        "id": "lMiXlQREC3uR"
      },
      "outputs": [],
      "source": [
        "!wget https://madm.dfki.de/files/sentinel/EuroSATallBands.zip --no-check-certificate"
      ]
    },
    {
      "cell_type": "markdown",
      "metadata": {
        "id": "wfn9Jp-BC3uR"
      },
      "source": [
        "### Eurosat classes\n",
        "\n",
        "The class-labels can be derived from the directory structure of the downloaded `zip` file. The 10 classes are as follows:"
      ]
    },
    {
      "cell_type": "code",
      "execution_count": null,
      "metadata": {
        "id": "N4XcaHpIC3uS"
      },
      "outputs": [],
      "source": [
        "classes = [\n",
        "    \"AnnualCrop\",\n",
        "    \"Forest\",\n",
        "    \"HerbaceousVegetation\",\n",
        "    \"Highway\",\n",
        "    \"Industrial\",\n",
        "    \"Pasture\",\n",
        "    \"PermanentCrop\",\n",
        "    \"Residential\",\n",
        "    \"River\",\n",
        "    \"SeaLake\",\n",
        "]"
      ]
    },
    {
      "cell_type": "markdown",
      "metadata": {
        "id": "_ePygyAbC3uS"
      },
      "source": [
        "### Data visualization\n",
        "Let's define a function to visualize the Eurosat data with `matplotlib`. In the 13-band multispectral images of Sentinel-2, the 13 values of each pixel correspond to the reflectance values at different wavelengths. These numbers are not normalized for visualization with `matplotlib`, which expects inputs to be `int` in the `[0-255]` or `float` in the `[0.-1.]` range."
      ]
    },
    {
      "cell_type": "code",
      "execution_count": null,
      "metadata": {
        "id": "i2o0GCV3C3uT"
      },
      "outputs": [],
      "source": [
        "def normalize_for_display(band_data):\n",
        "    \"\"\"Normalize multi-spectral imagery across bands.\n",
        "    The input is expected to be in HxWxC format, e.g. 64x64x13.\n",
        "    To account for outliers (e.g. extremly high values due to\n",
        "    reflective surfaces), we normalize with the 2- and 98-percentiles\n",
        "    instead of minimum and maximum of each band.\n",
        "    \"\"\"\n",
        "    band_data = np.array(band_data)\n",
        "    lower_perc = np.percentile(band_data, 2, axis=(0,1))\n",
        "    upper_perc = np.percentile(band_data, 98, axis=(0,1))\n",
        "\n",
        "    return (band_data - lower_perc) / (upper_perc - lower_perc)"
      ]
    },
    {
      "cell_type": "markdown",
      "metadata": {
        "id": "Kyz1QFWyC3uT"
      },
      "source": [
        "## EuroSat Data Loading\n",
        "\n",
        "First, let's collect all the files that we downloaded"
      ]
    },
    {
      "cell_type": "code",
      "execution_count": null,
      "metadata": {
        "id": "A4OogL9jC3uT"
      },
      "outputs": [],
      "source": [
        "#create directory for eurosatdata and put unzipped data there\n",
        "!mkdir eurosatdata\n",
        "!unzip EuroSATallBands.zip -d eurosatdata\n"
      ]
    },
    {
      "cell_type": "code",
      "source": [
        "eurosatdata_dir = \"/content/eurosatdata\""
      ],
      "metadata": {
        "id": "il40qiM-sH-X"
      },
      "execution_count": null,
      "outputs": []
    },
    {
      "cell_type": "code",
      "source": [
        "def find_files(directory, ending):\n",
        "    \"\"\"\n",
        "    Recursively find all '.tif' files within a directory and its subdirectories.\n",
        "\n",
        "    Parameters:\n",
        "    - directory (str): The path to the directory to search in.\n",
        "\n",
        "    Returns:\n",
        "    - List[str]: A list of paths to the '.tif' files found.\n",
        "    \"\"\"\n",
        "    tif_files = []\n",
        "\n",
        "    for root, dirs, files in os.walk(directory):\n",
        "        for file in fnmatch.filter(files, ending):\n",
        "            tif_files.append(os.path.join(root, file))\n",
        "\n",
        "    return tif_files"
      ],
      "metadata": {
        "id": "LtBZNAShIExx"
      },
      "execution_count": null,
      "outputs": []
    },
    {
      "cell_type": "code",
      "source": [
        "samples = find_files(eurosatdata_dir, '*.tif')\n",
        "len(samples)"
      ],
      "metadata": {
        "colab": {
          "base_uri": "https://localhost:8080/"
        },
        "id": "-tlcdFp4IhKu",
        "outputId": "523e4557-4bd5-4827-aab4-77107646408b"
      },
      "execution_count": null,
      "outputs": [
        {
          "output_type": "execute_result",
          "data": {
            "text/plain": [
              "27000"
            ]
          },
          "metadata": {},
          "execution_count": 13
        }
      ]
    },
    {
      "cell_type": "markdown",
      "metadata": {
        "id": "KrMZcPm-C3uV"
      },
      "source": [
        "We have 27,000 files across 10 classes.\n",
        "\n",
        "Let's load one of those multi-spectral images and try to visualize it."
      ]
    },
    {
      "cell_type": "code",
      "execution_count": null,
      "metadata": {
        "id": "cEMAbsF0C3uV"
      },
      "outputs": [],
      "source": [
        "sample_idx = 25470\n",
        "sample = samples[sample_idx]\n",
        "label = sample.split('/')[-1].split('_')[0]"
      ]
    },
    {
      "cell_type": "markdown",
      "metadata": {
        "id": "mSghS8cDC3uV"
      },
      "source": [
        "We can use `rasterio.open` to open the `GTiff` file. We can then `read` from the file. By default `read()` without arguments will load all bands. Individual bands can be specified as a list with one-based indices. Therefore, the RGB bands can be read with `read([4,3,2])`."
      ]
    },
    {
      "cell_type": "code",
      "execution_count": null,
      "metadata": {
        "id": "l79kds0MC3uW",
        "outputId": "5072caa9-d4e6-4818-ffbd-2e51e6943e3a",
        "colab": {
          "base_uri": "https://localhost:8080/"
        }
      },
      "outputs": [
        {
          "output_type": "execute_result",
          "data": {
            "text/plain": [
              "(13, 64, 64)"
            ]
          },
          "metadata": {},
          "execution_count": 15
        }
      ],
      "source": [
        "with rio.open(sample, \"r\") as d:\n",
        "    # img = d.read() # read all bands\n",
        "\n",
        "    # read specific bands:\n",
        "    # B1,B2,B3,B4,B5,B6,B7,B8,B8A,B9,B10,B11,B12\n",
        "    img = d.read([1,2,3,4,5,6,7,8,9,10,11,12,13])\n",
        "\n",
        "img.shape"
      ]
    },
    {
      "cell_type": "markdown",
      "metadata": {
        "id": "GME_C5oKC3uW"
      },
      "source": [
        "We load the data into the `img` variable. This results in a `numpy` array with shape `(13,64,64)`, i.e. `CxHxW`. This differs from the convention of most image libraries like `matplotlib`, which work on image data in the `HxWxC` orientation. `rasterio` provides a function to easily fix this:"
      ]
    },
    {
      "cell_type": "code",
      "execution_count": null,
      "metadata": {
        "id": "jSPe28FbC3uX",
        "outputId": "6e8e5794-6735-40fa-8368-8bbb5644a4aa",
        "colab": {
          "base_uri": "https://localhost:8080/"
        }
      },
      "outputs": [
        {
          "output_type": "execute_result",
          "data": {
            "text/plain": [
              "(64, 64, 13)"
            ]
          },
          "metadata": {},
          "execution_count": 16
        }
      ],
      "source": [
        "img = reshape_as_image(img)\n",
        "img.shape"
      ]
    },
    {
      "cell_type": "markdown",
      "metadata": {
        "id": "kv4OFDyAC3uX"
      },
      "source": [
        "Now let's normalize the data."
      ]
    },
    {
      "cell_type": "code",
      "execution_count": null,
      "metadata": {
        "id": "4OyfDkvyC3uY"
      },
      "outputs": [],
      "source": [
        "normalized_img = normalize_for_display(img)"
      ]
    },
    {
      "cell_type": "markdown",
      "metadata": {
        "id": "u0uwm3A3C3uY"
      },
      "source": [
        "Finally, we can extract the RGB bands and visualize them with `matplotlib`."
      ]
    },
    {
      "cell_type": "code",
      "execution_count": null,
      "metadata": {
        "id": "lPh1qhzSC3uY"
      },
      "outputs": [],
      "source": [
        "rgb_img = normalized_img[:, :, [3,2,1]]"
      ]
    },
    {
      "cell_type": "code",
      "execution_count": null,
      "metadata": {
        "id": "ZC7g-Mn0C3uZ",
        "outputId": "bc9eaa33-2702-4e52-d5de-9ae0be770e4d",
        "colab": {
          "base_uri": "https://localhost:8080/",
          "height": 544
        }
      },
      "outputs": [
        {
          "output_type": "stream",
          "name": "stderr",
          "text": [
            "WARNING:matplotlib.image:Clipping input data to the valid range for imshow with RGB data ([0..1] for floats or [0..255] for integers).\n"
          ]
        },
        {
          "output_type": "display_data",
          "data": {
            "text/plain": [
              "<Figure size 500x500 with 1 Axes>"
            ],
            "image/png": "[encoded data removed]"
          },
          "metadata": {}
        }
      ],
      "source": [
        "fig, ax = plt.subplots(1, figsize=(5,5))\n",
        "ax.imshow(rgb_img)\n",
        "ax.set_title(f\"{label}\")\n",
        "ax.axis(False)\n",
        "plt.tight_layout()\n",
        "\n",
        "plt.show()"
      ]
    },
    {
      "cell_type": "markdown",
      "metadata": {
        "id": "4Kk0vP4QC3uZ"
      },
      "source": [
        "Note the `matplotlib` warning. Since we normalized the data by percentiles instead of maximum and minimum some (rare) pixels exceed the `[0.-1.]` range that `matplotlib` can handle. In such cases, the values are clipped to `1.`."
      ]
    },
    {
      "cell_type": "markdown",
      "metadata": {
        "id": "PYGuuO5dC3uZ"
      },
      "source": [
        "# Testset Data Loading\n",
        "\n",
        "The testset has a slightly different structure than Eurosat. There are no labels and the data is stored in `numpy` `.npy` instead of GTiff.\n",
        "\n",
        "First, we have to download the data from [Kaggle](https://www.kaggle.com/competitions/aiml-coding-challenge-fs23/data)."
      ]
    },
    {
      "cell_type": "code",
      "execution_count": null,
      "metadata": {
        "id": "pYuzSoOYLiw-"
      },
      "outputs": [],
      "source": [
        "# change this to your testdata path\n",
        "testdata_path = '/content/testdata'\n"
      ]
    },
    {
      "cell_type": "code",
      "source": [
        "test_samples = find_files(testdata_path, \"*.npy\")"
      ],
      "metadata": {
        "id": "6UqFaiLGLixA"
      },
      "execution_count": null,
      "outputs": []
    },
    {
      "cell_type": "code",
      "source": [
        "#sort test samples\n",
        "import re\n",
        "test_samples = sorted(test_samples, key=lambda x: int(re.search(r'test_(\\d+).npy', x).group(1)))"
      ],
      "metadata": {
        "id": "SeOzOnmPbukc"
      },
      "execution_count": null,
      "outputs": []
    },
    {
      "cell_type": "code",
      "source": [
        "#Check\n",
        "print(len(test_samples))\n",
        "\n",
        "#first three elements\n",
        "print(test_samples[0:2])"
      ],
      "metadata": {
        "id": "q38CLt4ccYX9",
        "colab": {
          "base_uri": "https://localhost:8080/"
        },
        "outputId": "dfb9de01-7bb2-447a-851a-7df22b02a496"
      },
      "execution_count": null,
      "outputs": [
        {
          "output_type": "stream",
          "name": "stdout",
          "text": [
            "4232\n",
            "['/content/testdata/testset/testset/test_0.npy', '/content/testdata/testset/testset/test_1.npy']\n"
          ]
        }
      ]
    },
    {
      "cell_type": "markdown",
      "metadata": {
        "id": "ApqpgLsDC3ua"
      },
      "source": [
        "Now let's visualize a sample as we did for Eurosat"
      ]
    },
    {
      "cell_type": "code",
      "execution_count": null,
      "metadata": {
        "id": "fodTFQN5C3ub"
      },
      "outputs": [],
      "source": [
        "test_idx = 850"
      ]
    },
    {
      "cell_type": "code",
      "execution_count": null,
      "metadata": {
        "id": "sVuR56J2C3ub",
        "outputId": "9daf0f59-04fc-470e-b8d9-c7b81917515e",
        "colab": {
          "base_uri": "https://localhost:8080/"
        }
      },
      "outputs": [
        {
          "output_type": "execute_result",
          "data": {
            "text/plain": [
              "(64, 64, 12)"
            ]
          },
          "metadata": {},
          "execution_count": 25
        }
      ],
      "source": [
        "test_img = np.load(test_samples[test_idx])\n",
        "test_img.shape"
      ]
    },
    {
      "cell_type": "markdown",
      "metadata": {
        "id": "U2bqYcO9C3ud"
      },
      "source": [
        "Then normalize the data and extract RGB channels"
      ]
    },
    {
      "cell_type": "code",
      "execution_count": null,
      "metadata": {
        "id": "5-16YXRaC3ue"
      },
      "outputs": [],
      "source": [
        "normalized_img = normalize_for_display(test_img)"
      ]
    },
    {
      "cell_type": "code",
      "execution_count": null,
      "metadata": {
        "id": "vskqNDV-C3ue"
      },
      "outputs": [],
      "source": [
        "rgb_img = normalized_img[:, :, [3,2,1]]"
      ]
    },
    {
      "cell_type": "code",
      "execution_count": null,
      "metadata": {
        "id": "9ybALHUYC3uf"
      },
      "outputs": [],
      "source": [
        "fig, ax = plt.subplots(1, figsize=(5,5))\n",
        "ax.imshow(rgb_img)\n",
        "ax.set_title(f\"Test sample\")\n",
        "ax.axis(False)\n",
        "plt.tight_layout()\n",
        "\n",
        "plt.show()"
      ]
    },
    {
      "cell_type": "markdown",
      "metadata": {
        "id": "rC_BLTxKC3uf"
      },
      "source": [
        "### Bonus: Band arithmetic\n",
        "The normalized difference vegetation index, or NDVI, is one of the most useful indices that can be derived from multi-spectral remote sensing data and indicates the presence of live green vegeation in an area.\n",
        "\n",
        "> The pigment in plant leaves, chlorophyll, strongly absorbs visible light (from 400 to 700 nm) for use in photosynthesis. The cell structure of the leaves, on the other hand, strongly reflects near-infrared light (from 700 to 1100 nm).\n",
        "\n",
        "From [Wikipedia](https://en.wikipedia.org/wiki/Normalized_difference_vegetation_index)\n",
        "\n",
        "The NDVI exploits this difference in reflective properties of plants. It is computed as the ratio of the difference with the sum of near-infrared and red color bands. For the Sentinel2 data, this corresponds to the following:\n",
        "\n",
        "`NDVI = (B8-B4)/(B8+B4)`"
      ]
    },
    {
      "cell_type": "code",
      "execution_count": null,
      "metadata": {
        "id": "XWaMQlOOC3ug"
      },
      "outputs": [],
      "source": [
        "sample = samples[10]\n",
        "label = sample.split('/')[-1].split('_')[0]\n",
        "\n",
        "with rio.open(sample, \"r\") as d:\n",
        "    img = d.read([1,2,3,4,5,6,7,8,9,10,11,12,13])\n",
        "\n",
        "img = reshape_as_image(img)\n",
        "normalized_img = normalize_for_display(img)\n",
        "rgb_img = normalized_img[:, :, [3,2,1]]"
      ]
    },
    {
      "cell_type": "markdown",
      "metadata": {
        "id": "B54ozQg3C3uh"
      },
      "source": [
        "Extract bands 4 and 8 from the data."
      ]
    },
    {
      "cell_type": "code",
      "execution_count": null,
      "metadata": {
        "id": "YunEFkV1C3ui"
      },
      "outputs": [],
      "source": [
        "b8 = img[:, :, 7]\n",
        "b4 = img[:, :, 3]"
      ]
    },
    {
      "cell_type": "code",
      "execution_count": null,
      "metadata": {
        "id": "Cd-fSjI5C3ui",
        "outputId": "8f3d53c6-59f8-42d0-83ba-a3279af707e2",
        "colab": {
          "base_uri": "https://localhost:8080/",
          "height": 54
        }
      },
      "outputs": [
        {
          "output_type": "display_data",
          "data": {
            "text/plain": [
              "<Figure size 1000x500 with 2 Axes>"
            ],
            "image/png": "[encoded data removed]"
          },
          "metadata": {}
        }
      ],
      "source": [
        "fig, axs = plt.subplots(1,2, figsize=(10,5))\n",
        "\n",
        "axs[0].imshow(b4, cmap=\"gray\")\n",
        "axs[0].set_title(\"B4\")\n",
        "axs[0].axis(False)\n",
        "\n",
        "axs[1].imshow(b8, cmap=\"gray\")\n",
        "axs[1].set_title(\"B8\")\n",
        "axs[1].axis(False)\n",
        "\n",
        "plt.tight_layout()\n",
        "plt.show()"
      ]
    },
    {
      "cell_type": "markdown",
      "metadata": {
        "id": "yBsUkcAFC3ui"
      },
      "source": [
        "Compute the NDVI:"
      ]
    },
    {
      "cell_type": "code",
      "execution_count": null,
      "metadata": {
        "id": "WWWeFFrBC3ui"
      },
      "outputs": [],
      "source": [
        "ndvi = (b8-b4) / (b8+b4)"
      ]
    },
    {
      "cell_type": "code",
      "execution_count": null,
      "metadata": {
        "id": "HnrgMNmXC3uj",
        "outputId": "7eb06315-101a-4e47-92f1-ba09f0d269e1",
        "colab": {
          "base_uri": "https://localhost:8080/",
          "height": 71
        }
      },
      "outputs": [
        {
          "output_type": "stream",
          "name": "stderr",
          "text": [
            "WARNING:matplotlib.image:Clipping input data to the valid range for imshow with RGB data ([0..1] for floats or [0..255] for integers).\n"
          ]
        },
        {
          "output_type": "display_data",
          "data": {
            "text/plain": [
              "<Figure size 1500x500 with 3 Axes>"
            ],
            "image/png": "[encoded data removed]"
          },
          "metadata": {}
        }
      ],
      "source": [
        "fig, (ax1, ax2, ax3) = plt.subplots(1, 3, figsize=(15,5))\n",
        "\n",
        "ax1.imshow(rgb_img)\n",
        "ax1.set_title(f\"{label}\")\n",
        "ax1.axis(False)\n",
        "\n",
        "ax2.imshow(ndvi)\n",
        "ax2.set_title(f\"NDVI\")\n",
        "ax2.axis(False)\n",
        "\n",
        "ax3.imshow(ndvi > .5)\n",
        "ax3.set_title(f\"NDVI > 0.5\")\n",
        "ax3.axis(False)\n",
        "\n",
        "plt.tight_layout()\n",
        "plt.show()"
      ]
    },
    {
      "cell_type": "markdown",
      "metadata": {
        "id": "98bifGvuC3uj"
      },
      "source": [
        "We can easily threshold NDVI values to obtain a segmentation mask of the vegetation in the image."
      ]
    },
    {
      "cell_type": "markdown",
      "metadata": {
        "id": "zvb19Mj-C3uj"
      },
      "source": [
        "Let's also look at the bands individually."
      ]
    },
    {
      "cell_type": "code",
      "execution_count": null,
      "metadata": {
        "id": "Q-QFnShcC3uj",
        "outputId": "4a99eb18-782a-4c2e-a280-4144ebe7d97b",
        "colab": {
          "base_uri": "https://localhost:8080/",
          "height": 54
        }
      },
      "outputs": [
        {
          "output_type": "display_data",
          "data": {
            "text/plain": [
              "<Figure size 1500x1500 with 16 Axes>"
            ],
            "image/png": "[encoded data removed]"
          },
          "metadata": {}
        }
      ],
      "source": [
        "fig, axs = plt.subplots(4,4, figsize=(15,15))\n",
        "\n",
        "band_idx = 0\n",
        "bands = [\"B1\",\"B2\",\"B3\",\"B4\",\"B5\",\"B6\",\"B7\",\"B8\",\"B8A\",\"B9\",\"B10\",\"B11\",\"B12\"]\n",
        "\n",
        "for i in range(4):\n",
        "    for j in range(4):\n",
        "        if band_idx < 13:\n",
        "            axs[i,j].imshow(normalized_img[:, :, band_idx], cmap=\"gray\")\n",
        "            axs[i,j].set_title(bands[band_idx])\n",
        "        else:\n",
        "            axs[i,j].imshow(np.ones((64,64,3)), cmap=\"gray\")\n",
        "\n",
        "        axs[i,j].axis(False)\n",
        "        band_idx += 1\n",
        "\n",
        "plt.tight_layout()\n",
        "plt.show()"
      ]
    },
    {
      "cell_type": "markdown",
      "metadata": {
        "id": "_bgZAUD-C3uk"
      },
      "source": [
        "## Next steps\n",
        "\n",
        "Create a (deep learning) model to predict the most likely Eurosat class for each image of the testset. Think about creating the dataset class and data-loader for training, possible model architectures, and perhaps even how to best address the shift between train and test data."
      ]
    },
    {
      "cell_type": "markdown",
      "source": [
        "### Prepare Data for Deep Learning"
      ],
      "metadata": {
        "id": "dmhjJxZ6UlRU"
      }
    },
    {
      "cell_type": "code",
      "source": [
        "from keras.applications.inception_v3 import InceptionV3\n",
        "from keras.optimizers import SGD\n",
        "from keras.applications import ResNet50\n",
        "from keras.layers import Dense, GlobalAveragePooling2D, Dropout\n",
        "from keras.models import Model\n",
        "from keras.optimizers import Adam\n",
        "from sklearn.model_selection import train_test_split\n",
        "from sklearn.preprocessing import LabelEncoder"
      ],
      "metadata": {
        "id": "rpClUUlm6DKY"
      },
      "execution_count": null,
      "outputs": []
    },
    {
      "cell_type": "code",
      "source": [
        "#prepare EuroSat data for model\n",
        "#create images and labels list\n",
        "images = []\n",
        "labels = []\n",
        "for sample in samples:\n",
        "  with rio.open(sample, \"r\") as d:\n",
        "    #read all Bands\n",
        "    img = d.read()\n",
        "    img = reshape_as_image(img)\n",
        "    normalized_img = normalize_for_display(img)\n",
        "    rgb_img = normalized_img[:, :, [3,2,1]]\n",
        "    label = sample.split('/')[-1].split('_')[0]\n",
        "    images.append(rgb_img)\n",
        "    labels.append(label)"
      ],
      "metadata": {
        "id": "HFstaVPZEtfu",
        "colab": {
          "base_uri": "https://localhost:8080/"
        },
        "outputId": "c4f4c859-e490-40e6-e94a-35b19d0dd6c1"
      },
      "execution_count": null,
      "outputs": [
        {
          "output_type": "stream",
          "name": "stderr",
          "text": [
            "<ipython-input-9-6d4807d13447>:12: RuntimeWarning: invalid value encountered in divide\n",
            "  return (band_data - lower_perc) / (upper_perc - lower_perc)\n"
          ]
        }
      ]
    },
    {
      "cell_type": "code",
      "source": [
        "print(images[5202].shape)\n",
        "print(labels[5202])"
      ],
      "metadata": {
        "colab": {
          "base_uri": "https://localhost:8080/"
        },
        "id": "vec1a4yDTB8D",
        "outputId": "8e4be8b1-dc9c-4c43-b762-8523b22de489"
      },
      "execution_count": null,
      "outputs": [
        {
          "output_type": "stream",
          "name": "stdout",
          "text": [
            "(64, 64, 3)\n",
            "Residential\n"
          ]
        }
      ]
    },
    {
      "cell_type": "code",
      "execution_count": null,
      "metadata": {
        "id": "F6QSuLOO5S4d"
      },
      "outputs": [],
      "source": [
        "eval_fraction = 0.2"
      ]
    },
    {
      "cell_type": "code",
      "execution_count": null,
      "metadata": {
        "id": "B9ryQ5pZ5S4e"
      },
      "outputs": [],
      "source": [
        "# 80% training and 20% evaluation\n",
        "train_data, validation_data, train_labels, validation_labels = train_test_split(images, labels, test_size=eval_fraction, random_state=None, stratify=None)"
      ]
    },
    {
      "cell_type": "code",
      "source": [
        "print(len(train_data))\n",
        "print(len(validation_data))\n",
        "print(len(train_labels))\n",
        "print(len(validation_labels))\n",
        "print(train_data[4300].shape)\n",
        "print(train_labels[4300])"
      ],
      "metadata": {
        "colab": {
          "base_uri": "https://localhost:8080/"
        },
        "id": "rtR-qXDgae29",
        "outputId": "94e58c5f-037f-45dd-c632-5013663aa7a5"
      },
      "execution_count": null,
      "outputs": [
        {
          "output_type": "stream",
          "name": "stdout",
          "text": [
            "21600\n",
            "5400\n",
            "21600\n",
            "5400\n",
            "(64, 64, 3)\n",
            "Forest\n"
          ]
        }
      ]
    },
    {
      "cell_type": "code",
      "source": [
        "#convert list of data and labels into NumPy arrays.\n",
        "train_data_np = np.array(train_data)\n",
        "train_labels_np = np.array(train_labels)\n",
        "validation_data_np = np.array(validation_data)\n",
        "validation_labels_np = np.array(validation_labels)"
      ],
      "metadata": {
        "id": "F9fLNY130f67"
      },
      "execution_count": null,
      "outputs": []
    },
    {
      "cell_type": "code",
      "source": [
        "#encode categorical labels (=strings) into format suitable for training\n",
        "label_encoder = LabelEncoder()\n",
        "train_labels_np = label_encoder.fit_transform(train_labels_np)\n",
        "validation_labels_np = label_encoder.fit_transform(validation_labels_np)"
      ],
      "metadata": {
        "id": "Y-lMmNQA1C5U"
      },
      "execution_count": null,
      "outputs": []
    },
    {
      "cell_type": "markdown",
      "source": [
        "### Train Model"
      ],
      "metadata": {
        "id": "2NtAWZv0U1L8"
      }
    },
    {
      "cell_type": "markdown",
      "source": [
        "#### V1"
      ],
      "metadata": {
        "id": "h9HDZXwCPF6K"
      }
    },
    {
      "cell_type": "code",
      "execution_count": null,
      "metadata": {
        "id": "mygvgyzRC3uk"
      },
      "outputs": [],
      "source": [
        "number_of_classes = 10\n",
        "\n",
        "# Load ResNet50 with pre-trained ImageNet weights, excluding the top layer\n",
        "# No need to adjust for input channels since we're using standard RGB images\n",
        "base_model = ResNet50(weights='imagenet', include_top=False, input_shape=(64, 64, 3))\n",
        "\n",
        "# Freeze all layers in the base model to prevent their weights from being updated during training\n",
        "for layer in base_model.layers:\n",
        "    layer.trainable = False\n",
        "\n",
        "# Add new classifier layers\n",
        "x = base_model.output\n",
        "x = GlobalAveragePooling2D()(x)  # Convert features to vectors\n",
        "x = Dense(1024, activation='relu')(x)  # New FC layer, adjust units according to needs\n",
        "x = Dropout(0.5)(x)\n",
        "predictions = Dense(number_of_classes, activation='softmax')(x)  # New softmax layer\n",
        "\n",
        "# Define the model\n",
        "model = Model(inputs=base_model.input, outputs=predictions)\n",
        "\n",
        "# Compile the model\n",
        "# use categorical_crossentropy if labels as onet-to-hot\n",
        "# use sparse_categorical_crossentropy if labels are integers\n",
        "model.compile(optimizer=Adam(learning_rate=0.0001),\n",
        "              loss='sparse_categorical_crossentropy',\n",
        "              metrics=['accuracy'])\n",
        "\n",
        "# Summary to check the final model architecture\n",
        "model.summary()"
      ]
    },
    {
      "cell_type": "markdown",
      "source": [
        "#### V2"
      ],
      "metadata": {
        "id": "C73B3nrnPI4o"
      }
    },
    {
      "cell_type": "code",
      "execution_count": null,
      "metadata": {
        "id": "ovIodYmlPM6o"
      },
      "outputs": [],
      "source": [
        "# https://keras.io/api/applications/#usage-examples-for-image-classification-models\n",
        "number_of_classes = 10\n",
        "\n",
        "# Load ResNet50 with pre-trained ImageNet weights, excluding the top layer\n",
        "# No need to adjust for input channels since we're using standard RGB images\n",
        "base_model = ResNet50(weights='imagenet', include_top=False)\n",
        "\n",
        "# Add new classifier layers\n",
        "x = base_model.output\n",
        "x = GlobalAveragePooling2D()(x)  # Convert features to vectors\n",
        "x = Dense(1024, activation='relu')(x)  # New FC layer, adjust units according to needs\n",
        "\n",
        "predictions = Dense(number_of_classes, activation='softmax')(x)  # New softmax layer\n",
        "\n",
        "# Define the model\n",
        "model = Model(inputs=base_model.input, outputs=predictions)\n",
        "\n",
        "# Freeze all layers in the base model to prevent their weights from being updated during training\n",
        "for layer in base_model.layers:\n",
        "    layer.trainable = False\n",
        "\n",
        "model.compile(optimizer='rmsprop',\n",
        "              loss='sparse_categorical_crossentropy',\n",
        "              metrics=['accuracy'])"
      ]
    },
    {
      "cell_type": "code",
      "source": [
        "#Print summary\n",
        "model.summary()"
      ],
      "metadata": {
        "id": "7bWpI6UEaiLR"
      },
      "execution_count": null,
      "outputs": []
    },
    {
      "cell_type": "code",
      "source": [
        "# Train the model a few epochs\n",
        "number_of_epochs = 3\n",
        "model.fit(train_data_np, train_labels_np, epochs=number_of_epochs, validation_data=(validation_data_np, validation_labels_np))"
      ],
      "metadata": {
        "colab": {
          "base_uri": "https://localhost:8080/"
        },
        "id": "Lz-wB8HsQQsE",
        "outputId": "67f15ee5-ef59-4a03-9757-79cf04d53bb3"
      },
      "execution_count": null,
      "outputs": [
        {
          "output_type": "stream",
          "name": "stdout",
          "text": [
            "Epoch 1/3\n",
            "675/675 [==============================] - 98s 140ms/step - loss: 1.5885 - accuracy: 0.4358 - val_loss: 1.4008 - val_accuracy: 0.4926\n",
            "Epoch 2/3\n",
            "675/675 [==============================] - 96s 142ms/step - loss: 1.3528 - accuracy: 0.5163 - val_loss: 1.3610 - val_accuracy: 0.5181\n",
            "Epoch 3/3\n",
            "675/675 [==============================] - 97s 144ms/step - loss: 1.2858 - accuracy: 0.5477 - val_loss: 1.4263 - val_accuracy: 0.4991\n"
          ]
        },
        {
          "output_type": "execute_result",
          "data": {
            "text/plain": [
              "<keras.callbacks.History at 0x7ff71e485750>"
            ]
          },
          "metadata": {},
          "execution_count": 108
        }
      ]
    },
    {
      "cell_type": "code",
      "source": [
        "# let's visualize layer names and layer indices to see how many layers\n",
        "# we should freeze:\n",
        "for i, layer in enumerate(base_model.layers):\n",
        "   print(i, layer.name, layer.metrics)"
      ],
      "metadata": {
        "id": "1QLaHLJdRZ1Z"
      },
      "execution_count": null,
      "outputs": []
    },
    {
      "cell_type": "code",
      "source": [
        "# we chose to train the last inception block, i.e. we will freeze\n",
        "# the first 80 layers and unfreeze the rest:\n",
        "for layer in model.layers[:80]:\n",
        "   layer.trainable = False\n",
        "for layer in model.layers[81:]:\n",
        "   layer.trainable = True"
      ],
      "metadata": {
        "id": "EpUecD7tZFMc"
      },
      "execution_count": null,
      "outputs": []
    },
    {
      "cell_type": "code",
      "source": [
        "# we need to recompile the model for these modifications to take effect\n",
        "# we use SGD with a low learning rate\n",
        "model.compile(optimizer=SGD(lr=0.0001, momentum=0.9), loss='sparse_categorical_crossentropy')"
      ],
      "metadata": {
        "id": "qqY28xDUZb76"
      },
      "execution_count": null,
      "outputs": []
    },
    {
      "cell_type": "code",
      "source": [
        "# Train the model a few epochs\n",
        "number_of_epochs = 3\n",
        "model.fit(train_data_np, train_labels_np, epochs=number_of_epochs, validation_data=(validation_data_np, validation_labels_np))"
      ],
      "metadata": {
        "id": "AxrJigBgbczp"
      },
      "execution_count": null,
      "outputs": []
    },
    {
      "cell_type": "code",
      "source": [
        "#reduce size of data\n",
        "factor = 10\n",
        "train_data_np = train_data_np[0:(len(train_data_np)//factor)]\n",
        "train_labels_np = train_labels_np[0:(len(train_labels_np)//factor)]\n",
        "validation_data_np = validation_data_np[0:(len(validation_data_np)//factor)]\n",
        "validation_labels_np = validation_labels_np[0:(len(validation_labels_np)//factor)]"
      ],
      "metadata": {
        "id": "Gj7S2I7_5uM-"
      },
      "execution_count": null,
      "outputs": []
    },
    {
      "cell_type": "code",
      "source": [
        "print(train_data_np.shape)\n",
        "print(train_labels_np.shape)\n",
        "print(validation_data_np.shape)\n",
        "print(validation_labels_np.shape)"
      ],
      "metadata": {
        "colab": {
          "base_uri": "https://localhost:8080/"
        },
        "id": "I6R_TjvU6-PS",
        "outputId": "394fa537-040f-4cef-dcd6-70da34907ece"
      },
      "execution_count": null,
      "outputs": [
        {
          "output_type": "stream",
          "name": "stdout",
          "text": [
            "(21600, 64, 64, 3)\n",
            "(21600,)\n",
            "(5400, 64, 64, 3)\n",
            "(5400,)\n"
          ]
        }
      ]
    },
    {
      "cell_type": "code",
      "source": [
        "print(train_labels_np)"
      ],
      "metadata": {
        "id": "ksumhq3y_mxB",
        "colab": {
          "base_uri": "https://localhost:8080/"
        },
        "outputId": "22024b2f-3263-41a0-bad5-fc02944986cb"
      },
      "execution_count": null,
      "outputs": [
        {
          "output_type": "stream",
          "name": "stdout",
          "text": [
            "[9 5 6 ... 9 8 8]\n"
          ]
        }
      ]
    },
    {
      "cell_type": "code",
      "source": [
        "# Stop training see here: https://keras.io/api/callbacks/early_stopping/\n",
        "# This callback will stop the training when there is less than 10% improvement in\n",
        "# the loss for 0 consecutive epochs.\n",
        "import tensorflow as tf\n",
        "callback = tf.keras.callbacks.EarlyStopping(monitor='loss', min_delta=0.1)"
      ],
      "metadata": {
        "id": "Xi7M-E3qB2QX"
      },
      "execution_count": null,
      "outputs": []
    },
    {
      "cell_type": "code",
      "source": [
        "# Train the model\n",
        "number_of_epochs = 10\n",
        "model.fit(train_data_np, train_labels_np, epochs=number_of_epochs, validation_data=(validation_data_np, validation_labels_np), callbacks=[callback])"
      ],
      "metadata": {
        "id": "5mNpq90pyZ3p",
        "colab": {
          "base_uri": "https://localhost:8080/"
        },
        "outputId": "95bb8489-6e38-431e-cf4a-55ece52a833f"
      },
      "execution_count": null,
      "outputs": [
        {
          "output_type": "stream",
          "name": "stdout",
          "text": [
            "Epoch 1/10\n",
            "675/675 [==============================] - 61s 90ms/step - loss: 1.4158 - accuracy: 0.5052 - val_loss: 1.4050 - val_accuracy: 0.5148\n",
            "Epoch 2/10\n",
            "675/675 [==============================] - 60s 89ms/step - loss: 1.3794 - accuracy: 0.5183 - val_loss: 1.3714 - val_accuracy: 0.5248\n"
          ]
        },
        {
          "output_type": "execute_result",
          "data": {
            "text/plain": [
              "<keras.callbacks.History at 0x7ff6dac73ca0>"
            ]
          },
          "metadata": {},
          "execution_count": 73
        }
      ]
    },
    {
      "cell_type": "markdown",
      "source": [
        "### Adjustments to the model"
      ],
      "metadata": {
        "id": "pwdLiNY2KPvs"
      }
    },
    {
      "cell_type": "code",
      "source": [
        "# Unfreeze some of the ResNet50 layers\n",
        "for layer in base_model.layers[-30:]:\n",
        "    layer.trainable = True\n"
      ],
      "metadata": {
        "id": "uKV2mMjdKY4C"
      },
      "execution_count": null,
      "outputs": []
    },
    {
      "cell_type": "markdown",
      "source": [
        "### Prepare Data for New Classification based on Trained Model"
      ],
      "metadata": {
        "id": "Fkpv_M1VVKI7"
      }
    },
    {
      "cell_type": "code",
      "source": [
        "#Images to be classified\n",
        "testimages_normalized_rgb = []\n",
        "for sample in test_samples:\n",
        "  img = np.load(sample)\n",
        "  img_normalized = normalize_for_display(img)\n",
        "  testimages_normalized_rgb.append(img_normalized[:, :, [3,2,1]])\n"
      ],
      "metadata": {
        "id": "r8ae5yef7HTi"
      },
      "execution_count": null,
      "outputs": []
    },
    {
      "cell_type": "code",
      "source": [
        "#Verify len and shape\n",
        "print(len(testimages_normalized_rgb))\n",
        "print(testimages_normalized_rgb[23].shape)"
      ],
      "metadata": {
        "id": "opE7QxcVV7yx",
        "colab": {
          "base_uri": "https://localhost:8080/"
        },
        "outputId": "2e918a35-fd5e-43dc-e4e7-1eb86746ac66"
      },
      "execution_count": null,
      "outputs": [
        {
          "output_type": "stream",
          "name": "stdout",
          "text": [
            "4232\n",
            "(64, 64, 3)\n"
          ]
        }
      ]
    },
    {
      "cell_type": "code",
      "source": [
        "#convert list of images into NumPy array\n",
        "testimages_np = np.array(testimages_normalized_rgb)"
      ],
      "metadata": {
        "id": "e_Ji9iHXWqQY"
      },
      "execution_count": null,
      "outputs": []
    },
    {
      "cell_type": "code",
      "source": [
        "#Verify len and shape\n",
        "print(len(testimages_np))\n",
        "print(testimages_np[23].shape)"
      ],
      "metadata": {
        "colab": {
          "base_uri": "https://localhost:8080/"
        },
        "id": "2CjOkWcDXQMS",
        "outputId": "06581809-2d98-4e64-bcc9-62ff08a7f334"
      },
      "execution_count": null,
      "outputs": [
        {
          "output_type": "stream",
          "name": "stdout",
          "text": [
            "4232\n",
            "(64, 64, 3)\n"
          ]
        }
      ]
    },
    {
      "cell_type": "code",
      "source": [
        "#each row corresponds to an image\n",
        "#each column corresponds to the probability of that image belonging to one of the classes\n",
        "predictions = model.predict(testimages_np)"
      ],
      "metadata": {
        "colab": {
          "base_uri": "https://localhost:8080/"
        },
        "id": "YGxYfJkNXBTN",
        "outputId": "1c1888f0-b48f-451f-a0d4-c07cf7983a38"
      },
      "execution_count": null,
      "outputs": [
        {
          "output_type": "stream",
          "name": "stdout",
          "text": [
            "133/133 [==============================] - 11s 74ms/step\n"
          ]
        }
      ]
    },
    {
      "cell_type": "code",
      "source": [
        "#identify the class with the highest probability\n",
        "predicted_classes = np.argmax(predictions, axis=1)\n"
      ],
      "metadata": {
        "id": "Ov9ur0pfXeld"
      },
      "execution_count": null,
      "outputs": []
    },
    {
      "cell_type": "code",
      "source": [
        "#translate these numeric class identifiers back to their original labels\n",
        "predicted_labels = label_encoder.inverse_transform(predicted_classes)\n"
      ],
      "metadata": {
        "id": "qGXxH3gcYafi"
      },
      "execution_count": null,
      "outputs": []
    },
    {
      "cell_type": "code",
      "source": [
        "#Manual plausibility check by looking at one images and corresponding label\n",
        "import matplotlib.pyplot as plt\n",
        "import random\n",
        "i = random.randint(0, len(testimages_np))\n",
        "fig, axs = plt.subplots(1, figsize=(5,5))\n",
        "\n",
        "axs.imshow(testimages_np[i], interpolation='none')\n",
        "axs.set_title(predicted_labels[i])\n",
        "axs.axis(False)\n",
        "\n",
        "plt.tight_layout()\n",
        "plt.show()"
      ],
      "metadata": {
        "id": "oflqCbGHdAP5",
        "colab": {
          "base_uri": "https://localhost:8080/",
          "height": 544
        },
        "outputId": "eb550fcf-1899-4d54-8f96-34311a4a48c3"
      },
      "execution_count": null,
      "outputs": [
        {
          "output_type": "stream",
          "name": "stderr",
          "text": [
            "WARNING:matplotlib.image:Clipping input data to the valid range for imshow with RGB data ([0..1] for floats or [0..255] for integers).\n"
          ]
        },
        {
          "output_type": "display_data",
          "data": {
            "text/plain": [
              "<Figure size 500x500 with 1 Axes>"
            ],
            "image/png": "[encoded data removed]"
          },
          "metadata": {}
        }
      ]
    },
    {
      "cell_type": "code",
      "source": [
        "#export csv\n",
        "import csv\n",
        "\n",
        "# Specify the name of the CSV file you want to create\n",
        "csv_file_name = \"schnitzel_bratwürst_classification.csv\"\n",
        "\n",
        "# Open a new CSV file in write mode\n",
        "with open(csv_file_name, mode='w', newline='') as file:\n",
        "    writer = csv.writer(file)\n",
        "\n",
        "    # Write the header row\n",
        "    writer.writerow([\"test_id\", \"label\"])\n",
        "\n",
        "    # Write the data rows\n",
        "    for index in range(len(testimages_np)):\n",
        "        writer.writerow([index, predicted_labels[index]])\n",
        "\n",
        "print(f\"CSV file '{csv_file_name}' created successfully.\")\n"
      ],
      "metadata": {
        "colab": {
          "base_uri": "https://localhost:8080/"
        },
        "id": "EOmW_cGelWPt",
        "outputId": "a92d733a-44ab-4742-d1bb-ed94c0cf001d"
      },
      "execution_count": null,
      "outputs": [
        {
          "output_type": "stream",
          "name": "stdout",
          "text": [
            "CSV file 'schnitzel_bratwürst_classification.csv' created successfully.\n"
          ]
        }
      ]
    }
  ],
  "metadata": {
    "kernelspec": {
      "display_name": "Python 3",
      "name": "python3"
    },
    "language_info": {
      "codemirror_mode": {
        "name": "ipython",
        "version": 3
      },
      "file_extension": ".py",
      "mimetype": "text/x-python",
      "name": "python",
      "nbconvert_exporter": "python",
      "pygments_lexer": "ipython3",
      "version": "3.8.5"
    },
    "colab": {
      "provenance": [],
      "collapsed_sections": [
        "rC_BLTxKC3uf"
      ],
      "include_colab_link": true
    }
  },
  "nbformat": 4,
  "nbformat_minor": 0
}