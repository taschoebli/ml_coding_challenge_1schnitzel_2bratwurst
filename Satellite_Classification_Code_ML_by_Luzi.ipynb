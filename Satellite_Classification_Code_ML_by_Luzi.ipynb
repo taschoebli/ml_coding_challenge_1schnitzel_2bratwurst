{
  "cells": [
    {
      "cell_type": "markdown",
      "metadata": {
        "id": "view-in-github",
        "colab_type": "text"
      },
      "source": [
        "<a href=\"https://colab.research.google.com/github/taschoebli/ml_coding_challenge_1schnitzel_2bratwurst/blob/main/Satellite_Classification_Code_ML_by_Luzi.ipynb\" target=\"_parent\"><img src=\"https://colab.research.google.com/assets/colab-badge.svg\" alt=\"Open In Colab\"/></a>"
      ]
    },
    {
      "cell_type": "markdown",
      "metadata": {
        "id": "NZBHH6mQ6k7G"
      },
      "source": [
        "###  **EuroSAT - Satellite Image Classification**\n",
        "Training Data is Level 1C whereas Testing Data is Level 2A\n",
        "\n",
        "**Code by**: Seraphin Sattler, https://github.com/Sesatt/EuroSAT-satellite-image-classification\n",
        "\n",
        "**Adjusted by**: Luzi Schöb\n",
        "\n",
        "**Network Architecture**: Convolutional Neural Network"
      ]
    },
    {
      "cell_type": "markdown",
      "metadata": {
        "id": "7cBt4BYi6k7I"
      },
      "source": [
        "## **1. Setup of the Notebook Environment**\n",
        "\n",
        "\n"
      ]
    },
    {
      "cell_type": "code",
      "execution_count": 1,
      "metadata": {
        "id": "KC6YVQ1f6k7J",
        "colab": {
          "base_uri": "https://localhost:8080/"
        },
        "outputId": "7e500628-5f6a-40c2-f333-0278b5b85b8e"
      },
      "outputs": [
        {
          "output_type": "stream",
          "name": "stdout",
          "text": [
            "\u001b[2K     \u001b[90m━━━━━━━━━━━━━━━━━━━━━━━━━━━━━━━━━━━━━━━━\u001b[0m \u001b[32m21.5/21.5 MB\u001b[0m \u001b[31m61.7 MB/s\u001b[0m eta \u001b[36m0:00:00\u001b[0m\n",
            "\u001b[?25h"
          ]
        }
      ],
      "source": [
        "import os\n",
        "import glob\n",
        "import numpy as np\n",
        "!pip -q install rasterio\n",
        "import rasterio as rio\n",
        "from rasterio.plot import reshape_as_image, reshape_as_raster\n",
        "import matplotlib.pyplot as plt\n",
        "%matplotlib inline"
      ]
    },
    {
      "cell_type": "markdown",
      "metadata": {
        "id": "fV51btKf6k7K"
      },
      "source": [
        "## **2. Data Gathering**"
      ]
    },
    {
      "cell_type": "markdown",
      "metadata": {
        "id": "QPGQvLC5q6Jr"
      },
      "source": [
        "### **2.1 Training Data**"
      ]
    },
    {
      "cell_type": "code",
      "execution_count": 2,
      "metadata": {
        "colab": {
          "base_uri": "https://localhost:8080/"
        },
        "id": "IHrzf6gT6k7L",
        "outputId": "d8718a10-0d83-40d3-c458-982a8f58ed56"
      },
      "outputs": [
        {
          "output_type": "stream",
          "name": "stdout",
          "text": [
            "--2024-05-04 14:22:21--  https://madm.dfki.de/files/sentinel/EuroSATallBands.zip\n",
            "Resolving madm.dfki.de (madm.dfki.de)... 131.246.195.183\n",
            "Connecting to madm.dfki.de (madm.dfki.de)|131.246.195.183|:443... connected.\n",
            "WARNING: cannot verify madm.dfki.de's certificate, issued by ‘CN=GEANT OV RSA CA 4,O=GEANT Vereniging,C=NL’:\n",
            "  Unable to locally verify the issuer's authority.\n",
            "HTTP request sent, awaiting response... 200 OK\n",
            "Length: 2067725275 (1.9G) [application/zip]\n",
            "Saving to: ‘EuroSATallBands.zip’\n",
            "\n",
            "EuroSATallBands.zip 100%[===================>]   1.92G  12.7MB/s    in 2m 32s  \n",
            "\n",
            "2024-05-04 14:24:54 (13.0 MB/s) - ‘EuroSATallBands.zip’ saved [2067725275/2067725275]\n",
            "\n"
          ]
        }
      ],
      "source": [
        "!wget https://madm.dfki.de/files/sentinel/EuroSATallBands.zip --no-check-certificate"
      ]
    },
    {
      "cell_type": "code",
      "execution_count": 3,
      "metadata": {
        "id": "xTogrUz8SQ-b"
      },
      "outputs": [],
      "source": [
        "!unzip -q \"/content/EuroSATallBands.zip\""
      ]
    },
    {
      "cell_type": "code",
      "execution_count": 4,
      "metadata": {
        "colab": {
          "base_uri": "https://localhost:8080/"
        },
        "id": "L4XHtX8Y6k7N",
        "outputId": "64f5d511-481d-49a6-a861-7342e3af0c82"
      },
      "outputs": [
        {
          "output_type": "stream",
          "name": "stdout",
          "text": [
            "27000 trainingset samples with 10 different classes\n"
          ]
        }
      ],
      "source": [
        "# change this to your eurosat path\n",
        "eurosat_dir = \"/content/ds/images/remote_sensing/otherDatasets/sentinel_2/tif\"\n",
        "samples = glob.glob(os.path.join(eurosat_dir, \"*\", \"*.tif\"))\n",
        "print(str(len(samples)) + \" trainingset samples with 10 different classes\")"
      ]
    },
    {
      "cell_type": "markdown",
      "metadata": {
        "id": "2aCBCahn6k7R"
      },
      "source": [
        "### **2. Testset Data**"
      ]
    },
    {
      "cell_type": "code",
      "execution_count": null,
      "metadata": {
        "id": "l59Y5JWrS71V"
      },
      "outputs": [],
      "source": [
        "# import the Google Colab GDrive connector\n",
        "from google.colab import drive\n",
        "\n",
        "# mount GDrive inside the Colab notebook\n",
        "drive.mount('/content/drive')"
      ]
    },
    {
      "cell_type": "code",
      "execution_count": null,
      "metadata": {
        "id": "I4gKfjGkMtJc"
      },
      "outputs": [],
      "source": [
        "!unzip -q \"/content/drive/MyDrive/Colab Notebooks/coding_challenge/testset.zip\" #\"/content/drive/MyDrive/Colab Notebooks/coding_challenge/Data/testset.zip\"\n",
        "testset_dir = \"/content/testset\"\n",
        "test_samples = glob.glob(os.path.join(testset_dir, \"*.npy\"))\n",
        "print(str(len(test_samples)) + \" testset samples\")"
      ]
    },
    {
      "cell_type": "markdown",
      "metadata": {
        "id": "OkFRRHti6k7N"
      },
      "source": [
        "## **3. Data Assessment**\n"
      ]
    },
    {
      "cell_type": "code",
      "execution_count": null,
      "metadata": {
        "id": "uZXBnGui6k7N"
      },
      "outputs": [],
      "source": [
        "def normalize_for_display(band_data):\n",
        "    \"\"\"Normalize multi-spectral imagery across bands.\n",
        "    The input is expected to be in HxWxC format, e.g. 64x64x13.\n",
        "    To account for outliers (e.g. extremly high values due to\n",
        "    reflective surfaces), we normalize with the 2- and 98-percentiles\n",
        "    instead of minimum and maximum of each band.\n",
        "    \"\"\"\n",
        "    band_data = np.array(band_data)\n",
        "    lower_perc = np.percentile(band_data, 2, axis=(0,1))\n",
        "    upper_perc = np.percentile(band_data, 98, axis=(0,1))\n",
        "\n",
        "    return (band_data - lower_perc) / (upper_perc - lower_perc)"
      ]
    },
    {
      "cell_type": "markdown",
      "metadata": {
        "id": "L9EYtSfQ6k7R"
      },
      "source": [
        "Now let's visualize a sample as we did for Eurosat"
      ]
    },
    {
      "cell_type": "markdown",
      "metadata": {
        "id": "jN8ZqBy3slpA"
      },
      "source": [
        "### **3.1 Visualize Training Data**"
      ]
    },
    {
      "cell_type": "code",
      "execution_count": null,
      "metadata": {
        "id": "6O0098jdsduQ"
      },
      "outputs": [],
      "source": [
        "#load image\n",
        "sample_idx = 25000\n",
        "sample = samples[sample_idx]\n",
        "label = sample.split('/')[-1].split('_')[0]\n",
        "\n",
        "with rio.open(sample, \"r\") as d:\n",
        "    img = d.read([1,2,3,4,5,6,7,8,9,10,11,12,13])\n",
        "\n",
        "#reshape to (64x64x13) to match the convention of matplotlib\n",
        "img = reshape_as_image(np.array(img))\n",
        "\n",
        "#normalize image across bands\n",
        "normalized_img = normalize_for_display(img)\n",
        "\n",
        "fig, axs = plt.subplots(4,4, figsize=(15,15))\n",
        "\n",
        "band_idx = 0\n",
        "bands = [\"B1\",\"B2\",\"B3\",\"B4\",\"B5\",\"B6\",\"B7\",\"B8\",\"B8A\",\"B9\",\"B10\",\"B11\",\"B12\"]\n",
        "\n",
        "for i in range(4):\n",
        "    for j in range(4):\n",
        "        if band_idx < 13:\n",
        "            axs[i,j].imshow(normalized_img[:, :, band_idx], cmap=\"gray\")\n",
        "            axs[i,j].set_title(bands[band_idx])\n",
        "        else:\n",
        "            axs[i,j].imshow(np.ones((64,64,3)), cmap=\"gray\")\n",
        "\n",
        "        axs[i,j].axis(False)\n",
        "        band_idx += 1\n",
        "\n",
        "plt.tight_layout()\n",
        "plt.show()"
      ]
    },
    {
      "cell_type": "markdown",
      "metadata": {
        "id": "2cF3F1pHstnW"
      },
      "source": [
        "### **3.2 Visualize Test Data**"
      ]
    },
    {
      "cell_type": "code",
      "execution_count": null,
      "metadata": {
        "id": "1bObxVUhskHt"
      },
      "outputs": [],
      "source": [
        "test_idx = 10\n",
        "test_img = np.load(test_samples[test_idx])\n",
        "normalized_img = normalize_for_display(test_img)\n",
        "\n",
        "fig, axs = plt.subplots(4,4, figsize=(15,15))\n",
        "\n",
        "band_idx = 0\n",
        "bands = [\"B1\",\"B2\",\"B3\",\"B4\",\"B5\",\"B6\",\"B7\",\"B8\",\"B8A\",\"B9\",\"B10\",\"B11\",\"B12\"]\n",
        "\n",
        "for i in range(4):\n",
        "    for j in range(4):\n",
        "        if band_idx < 12:\n",
        "            axs[i,j].imshow(normalized_img[:, :, band_idx], cmap=\"gray\")\n",
        "            axs[i,j].set_title(bands[band_idx])\n",
        "        else:\n",
        "            axs[i,j].imshow(np.ones((64,64,3)), cmap=\"gray\")\n",
        "\n",
        "        axs[i,j].axis(False)\n",
        "        band_idx += 1\n",
        "\n",
        "plt.tight_layout()\n",
        "plt.show()"
      ]
    },
    {
      "cell_type": "markdown",
      "source": [
        "### **3.3 Export All Test Data as Image**"
      ],
      "metadata": {
        "id": "Es0ttqq6bVoT"
      }
    },
    {
      "cell_type": "code",
      "source": [
        "'''for index, path in enumerate(test_samples[:500]): #only 5 test_samples[:5]\n",
        "  filename = os.path.splitext(os.path.basename(path))[0]\n",
        "  #print(path)\n",
        "  #print(filename)\n",
        "  #print(index)\n",
        "  img= np.load(path)\n",
        "  normalized_img = normalize_for_display(img)\n",
        "  rgb_img = normalized_img[:, :, [3,2,1]]\n",
        "  #rgb_img_255 = rgb_img * 255 # scale from 0...1 float to 0...255\n",
        "  #print(rgb_img)\n",
        "  #print(rgb_img_255)\n",
        "  #image = Image.fromarray(rgb_img_255, mode=\"RGB\")\n",
        "  #image.save(f'/content/drive/MyDrive/Colab Notebooks/coding_challenge/images/{filename}.jpg')\n",
        "  #cv2.imwrite(f'/content/drive/MyDrive/Colab Notebooks/coding_challenge/images/{filename}.png', rgb_img)\n",
        "\n",
        "  fig, ax = plt.subplots(1, figsize=(5,5))\n",
        "  ax.imshow(rgb_img)\n",
        "  ax.set_title(f\"{filename}\")\n",
        "  ax.axis(False)\n",
        "  plt.tight_layout()\n",
        "\n",
        "  plt.show()'''"
      ],
      "metadata": {
        "id": "WHNccBTzfWzw"
      },
      "execution_count": null,
      "outputs": []
    },
    {
      "cell_type": "markdown",
      "source": [
        "### **3.4 Export All Training Data as Image**"
      ],
      "metadata": {
        "id": "lcq7eAExxHUp"
      }
    },
    {
      "cell_type": "code",
      "source": [
        "'''for index in enumerate(samples[:5]): #only 5 test_samples[:5]\n",
        "  with rio.open(sample, \"r\") as d:\n",
        "    img = d.read([1,2,3,4,5,6,7,8,9,10,11,12,13])\n",
        "\n",
        "  #reshape to (64x64x13) to match the convention of matplotlib\n",
        "  img = reshape_as_image(np.array(img))\n",
        "\n",
        "  #normalize image across bands\n",
        "  normalized_img = normalize_for_display(img)\n",
        "\n",
        "  rgb_img = normalized_img[:, :, [3,2,1]]\n",
        "  #rgb_img_255 = rgb_img * 255 # scale from 0...1 float to 0...255\n",
        "  #print(rgb_img)\n",
        "  #print(rgb_img_255)\n",
        "  #image = Image.fromarray(rgb_img_255, mode=\"RGB\")\n",
        "  #image.save(f'/content/drive/MyDrive/Colab Notebooks/coding_challenge/images/{filename}.jpg')\n",
        "  #cv2.imwrite(f'/content/drive/MyDrive/Colab Notebooks/coding_challenge/images/{filename}.png', rgb_img)\n",
        "\n",
        "  fig, ax = plt.subplots(1, figsize=(5,5))\n",
        "  ax.imshow(rgb_img)\n",
        "  ax.set_title(f\"{filename}\")\n",
        "  ax.axis(False)\n",
        "  plt.tight_layout()\n",
        "\n",
        "  plt.show()'''"
      ],
      "metadata": {
        "colab": {
          "base_uri": "https://localhost:8080/",
          "height": 1000
        },
        "id": "Yjyi4ETfxILK",
        "outputId": "249d5b3e-234d-4ccc-b8b6-89bcafa6fa65"
      },
      "execution_count": 11,
      "outputs": [
        {
          "data": {
            "application/vnd.google.colaboratory.intrinsic+json": {
              "type": "string"
            },
            "text/plain": [
              "'for index in enumerate(samples[:5]): #only 5 test_samples[:5]\\n  with rio.open(sample, \"r\") as d:\\n    img = d.read([1,2,3,4,5,6,7,8,9,10,11,12,13])\\n\\n  #reshape to (64x64x13) to match the convention of matplotlib\\n  img = reshape_as_image(np.array(img))\\n\\n  #normalize image across bands\\n  normalized_img = normalize_for_display(img)\\n\\n  rgb_img = normalized_img[:, :, [3,2,1]]\\n  #rgb_img_255 = rgb_img * 255 # scale from 0...1 float to 0...255\\n  #print(rgb_img)\\n  #print(rgb_img_255)\\n  #image = Image.fromarray(rgb_img_255, mode=\"RGB\")\\n  #image.save(f\\'/content/drive/MyDrive/Colab Notebooks/coding_challenge/images/{filename}.jpg\\')\\n  #cv2.imwrite(f\\'/content/drive/MyDrive/Colab Notebooks/coding_challenge/images/{filename}.png\\', rgb_img)\\n\\n  fig, ax = plt.subplots(1, figsize=(5,5))\\n  ax.imshow(rgb_img)\\n  ax.set_title(f\"{filename}\")\\n  ax.axis(False)\\n  plt.tight_layout()\\n\\n  plt.show()'"
            ]
          },
          "execution_count": 11,
          "metadata": {},
          "output_type": "execute_result"
        }
      ]
    },
    {
      "cell_type": "markdown",
      "metadata": {
        "id": "WT9WbLP0uG-T"
      },
      "source": [
        "### **3.5 Findings and Modifications**\n",
        "\n",
        "Looking closely at the above displayed picture, there are two main points that require some adjustment:\n",
        "\n",
        "1. B9 from Training set is not included in test set --> remove for training\n",
        "2. B12 in the training set corresponds to B8A in the test set. Therefore the last band in the training set has to be moved to the 9th position, whereby the current bands B8A to B11 are shifted one position up."
      ]
    },
    {
      "cell_type": "markdown",
      "metadata": {
        "id": "FTa_IxPiyP97"
      },
      "source": [
        "## **4. Data Preprocessing and Augmentation**"
      ]
    },
    {
      "cell_type": "markdown",
      "metadata": {
        "id": "2asAXf2Ny1XC"
      },
      "source": [
        "### **4.1 Setup the Environment**"
      ]
    },
    {
      "cell_type": "code",
      "execution_count": 12,
      "metadata": {
        "id": "D2fjs6k16k7M"
      },
      "outputs": [],
      "source": [
        "classes = [\n",
        "    \"AnnualCrop\",\n",
        "    \"Forest\",\n",
        "    \"HerbaceousVegetation\",\n",
        "    \"Highway\",\n",
        "    \"Industrial\",\n",
        "    \"Pasture\",\n",
        "    \"PermanentCrop\",\n",
        "    \"Residential\",\n",
        "    \"River\",\n",
        "    \"SeaLake\",\n",
        "]"
      ]
    },
    {
      "cell_type": "code",
      "execution_count": 13,
      "metadata": {
        "id": "3vw_TUZl6k7V"
      },
      "outputs": [],
      "source": [
        "import os, urllib, io\n",
        "from datetime import datetime\n",
        "import numpy as np\n",
        "from numpy.random import default_rng\n",
        "from scipy.ndimage import gaussian_filter\n",
        "# import the PyTorch deep learning library\n",
        "import torch, torchvision\n",
        "import torch.nn.functional as F\n",
        "from torch import nn, optim\n",
        "# import sklearn classification evaluation library\n",
        "from sklearn import metrics\n",
        "from sklearn.metrics import confusion_matrix"
      ]
    },
    {
      "cell_type": "code",
      "execution_count": 14,
      "metadata": {
        "id": "ik3TPwcLUX2W"
      },
      "outputs": [],
      "source": [
        "# create the data sub-directory\n",
        "data_directory = './ConvNet/data_eurosat'\n",
        "if not os.path.exists(data_directory): os.makedirs(data_directory)\n",
        "\n",
        "# create the models sub-directory\n",
        "models_directory = './ConvNet/models_eurosat'\n",
        "if not os.path.exists(models_directory): os.makedirs(models_directory)"
      ]
    },
    {
      "cell_type": "code",
      "execution_count": 15,
      "metadata": {
        "id": "LdJlsyD7Qh5X",
        "colab": {
          "base_uri": "https://localhost:8080/"
        },
        "outputId": "acb7955f-a8fd-4349-9345-427faacdc18e"
      },
      "outputs": [
        {
          "data": {
            "text/plain": [
              "<torch._C.Generator at 0x7e5743d29570>"
            ]
          },
          "execution_count": 15,
          "metadata": {},
          "output_type": "execute_result"
        }
      ],
      "source": [
        "# init deterministic seed\n",
        "seed_value = 1234\n",
        "np.random.seed(seed_value) # set numpy seed\n",
        "torch.manual_seed(seed_value) # set pytorch seed CPU"
      ]
    },
    {
      "cell_type": "code",
      "execution_count": 16,
      "metadata": {
        "id": "0E1tJrMcQmx9",
        "colab": {
          "base_uri": "https://localhost:8080/"
        },
        "outputId": "ad6b75c2-693a-4e44-c7f3-c432cd61710a"
      },
      "outputs": [
        {
          "metadata": {
            "tags": null
          },
          "name": "stdout",
          "output_type": "stream",
          "text": [
            "[LOG] notebook with cuda computation enabled\n"
          ]
        }
      ],
      "source": [
        "# set cpu or gpu enabled device\n",
        "device = torch.device('cuda' if torch.cuda.is_available() else 'cpu').type\n",
        "\n",
        "# init deterministic GPU seed\n",
        "torch.cuda.manual_seed(seed_value)\n",
        "\n",
        "# log type of device enabled\n",
        "print('[LOG] notebook with {} computation enabled'.format(str(device)))"
      ]
    },
    {
      "cell_type": "code",
      "execution_count": 17,
      "metadata": {
        "id": "zBFpCR2fsnVz"
      },
      "outputs": [],
      "source": [
        "import os\n",
        "os.environ['CUDA_LAUNCH_BLOCKING'] = '1'"
      ]
    },
    {
      "cell_type": "code",
      "execution_count": 18,
      "metadata": {
        "id": "vugmPFk0qucU"
      },
      "outputs": [],
      "source": [
        "CUDA_LAUNCH_BLOCKING=1"
      ]
    },
    {
      "cell_type": "markdown",
      "metadata": {
        "id": "POHvH-G7zFZ6"
      },
      "source": [
        "### **4.2 Data Preprocessing**"
      ]
    },
    {
      "cell_type": "markdown",
      "metadata": {
        "id": "-AoMxuuJ2b4W"
      },
      "source": [
        "Two main steps for data preprocessing:\n",
        "1. load all samples in the right order and add NDVI index\n",
        "2. Standardize data across images but within each band"
      ]
    },
    {
      "cell_type": "code",
      "execution_count": 23,
      "metadata": {
        "id": "MMs80RM2Q3tD"
      },
      "outputs": [],
      "source": [
        "def data_preparation(sample_paths):\n",
        "  \"\"\"Input: list of paths where images are saved.\n",
        "  Images are loaded, bands are put into the right order and NDVI index is added.\n",
        "  Output: Images as array of shape (NxHxWxC) + corresponding array of labels\"\"\"\n",
        "\n",
        "  data_list = []\n",
        "  data_array = np.empty((0, 64, 64, 14), dtype = np.float16)\n",
        "  labels = np.array([])\n",
        "\n",
        "  #loop through sample paths to load all samples\n",
        "  for i in range(len(sample_paths)):\n",
        "    sample = sample_paths[i]\n",
        "    label = sample.split('/')[-1].split('_')[0]\n",
        "    label_no = classes.index(label)\n",
        "    labels = np.append(labels,label_no)\n",
        "\n",
        "    with rio.open(sample, \"r\") as d:\n",
        "      #read all bands but B10 (index: 10) (which is not in test data)\n",
        "      #move band 13 to position 9 (Band 8A is at last position (13) for training data but at position 9 in test data)\n",
        "      #B01->1\n",
        "      #B02->2\n",
        "      #B03->3\n",
        "      #B04->4\n",
        "      #B05->5\n",
        "      #B06->6\n",
        "      #B07->7\n",
        "      #B08->8\n",
        "      #B08A->13\n",
        "      #B09->9\n",
        "      #B11->11\n",
        "      #B12->12\n",
        "      #order of training data is now adjusted to order of test data!\n",
        "      img = d.read([1,2,3,4,5,6,7,8,13,9,11,12])\n",
        "\n",
        "    #reshape to 64x64x12\n",
        "    img = np.moveaxis(img,0,2)\n",
        "\n",
        "    #add NDMI https://www.usgs.gov/landsat-missions/normalized-difference-moisture-index (B8A-B11)/(B8A+B11)\n",
        "    img = np.append(img, np.array((img[:,:,8]-img[:,:,10])/(img[:,:,8]+img[:,:,10])).reshape(64,64,1), axis = 2)\n",
        "\n",
        "    #add NDVI index as additional input channel (B8-B4)/(B8+B4)\n",
        "    img = np.append(img, np.array((img[:,:,7]-img[:,:,3])/(img[:,:,7]+img[:,:,3])).reshape(64,64,1), axis = 2)\n",
        "\n",
        "    data_list.append(img)\n",
        "\n",
        "    #for every 1000 samples append samples to array --> needed to save memory\n",
        "    if (i+1) % 1000 == 0:\n",
        "      data_array = np.append(data_array, np.array(data_list, dtype = np.float16), axis = 0)\n",
        "      data_list = []\n",
        "\n",
        "  return data_array, labels"
      ]
    },
    {
      "cell_type": "code",
      "execution_count": 24,
      "metadata": {
        "id": "F6rWpc12q42u"
      },
      "outputs": [],
      "source": [
        "def normalize_data(images):\n",
        "    \"\"\"Input: array with images of shape (NxHxWxC).\n",
        "    Normalizes / Standardizes data across images but within each band.\n",
        "    Output: Array with normalized images of shape (NxHxWxC)\"\"\"\n",
        "\n",
        "    #set nan to 0\n",
        "    images[np.isnan(images)] = 0\n",
        "\n",
        "    #compute mean and standard deviation. Float16 to save memory\n",
        "    band_mean = np.mean(images, axis = (0,1,2), dtype = np.float64).astype('float16')\n",
        "    band_std = np.std(images, axis = (0,1,2), dtype = np.float64).astype('float16')\n",
        "\n",
        "    #standardize data across images within each band\n",
        "    for i in range(len(band_mean)):\n",
        "      images[:,:,:,i]=(images[:,:,:,i]-band_mean[i])/band_std[i]\n",
        "\n",
        "    return images"
      ]
    },
    {
      "cell_type": "code",
      "execution_count": 25,
      "metadata": {
        "id": "tODR0VhN_Wan",
        "colab": {
          "base_uri": "https://localhost:8080/"
        },
        "outputId": "2922ab2d-23f4-456d-84f6-6a1dd1f1df73"
      },
      "outputs": [
        {
          "output_type": "stream",
          "name": "stderr",
          "text": [
            "<ipython-input-23-205e155f8fd8>:42: RuntimeWarning: invalid value encountered in divide\n",
            "  img = np.append(img, np.array((img[:,:,7]-img[:,:,3])/(img[:,:,7]+img[:,:,3])).reshape(64,64,1), axis = 2)\n"
          ]
        }
      ],
      "source": [
        "#Note: divide by 0 error occurs because of NDVI index creation. NAN is later set to 0.\n",
        "data, labels = data_preparation(samples)"
      ]
    },
    {
      "cell_type": "code",
      "execution_count": 26,
      "metadata": {
        "id": "gTeK9IvU3pod"
      },
      "outputs": [],
      "source": [
        "data = normalize_data(data)"
      ]
    },
    {
      "cell_type": "code",
      "execution_count": 27,
      "metadata": {
        "id": "Do5TKx8h-xPY",
        "colab": {
          "base_uri": "https://localhost:8080/"
        },
        "outputId": "06c11a3d-77f1-4b12-e6d5-e596417dd9d4"
      },
      "outputs": [
        {
          "output_type": "stream",
          "name": "stdout",
          "text": [
            "data shape:  (27000, 64, 64, 14)\n",
            "labels shape:  (27000,)\n"
          ]
        }
      ],
      "source": [
        "print(\"data shape: \", data.shape)\n",
        "print(\"labels shape: \", labels.shape)"
      ]
    },
    {
      "cell_type": "markdown",
      "metadata": {
        "id": "kU6iCIvG8o-T"
      },
      "source": [
        "### **4.3 Data Augmentation**\n",
        "Two main data augmentation techniques:\n",
        "1. Randomly augment 30% of data by rotating 90°, flipping upside-down or flipping left-right\n",
        "2. Randomly augment 30% of data by eliminating pixel patches of size 12x12"
      ]
    },
    {
      "cell_type": "code",
      "execution_count": 28,
      "metadata": {
        "id": "wtN1ysqfNg5w"
      },
      "outputs": [],
      "source": [
        "def data_augmentation(data, labels, augmentation_perc = 0.3):\n",
        "  \"\"\"Input: data: 4D array with images of shape (NxHxWxC); labels: 1D array of labels.\n",
        "  Randomly augments 30% (augmentation_perc) of data by rotating 90°, flipping upside-down, or flipping left-to-right\n",
        "  Randomly augments 30% (augmentation_perc) of data by eliminating pixel patches of size 12x12\n",
        "  Output: 4D array of augmented data (NxHxWxC) + 1D array of labels\n",
        "  \"\"\"\n",
        "\n",
        "  N = len(labels)\n",
        "  adj_data = []\n",
        "\n",
        "  #create random indices (without replacement) to define which images to use for augmentation\n",
        "  augmentation_size = round(augmentation_perc*N)\n",
        "  rotate_idx = np.random.choice(N, size = augmentation_size, replace = False)\n",
        "  eliminate_idx = np.random.choice(N, size = augmentation_size, replace = False)\n",
        "\n",
        "  #data augmentation 1: do randomly either of: flip upside-down, flip left-right, rotate by 90°\n",
        "  for i in range(N):\n",
        "    img = data[i]\n",
        "    label_no = labels[i]\n",
        "    if i in rotate_idx:\n",
        "      rand = np.random.randint(3, size = 1)\n",
        "      if rand == 0:\n",
        "        img_adj1 = np.flipud(img)\n",
        "      elif rand == 1:\n",
        "        img_adj1 = np.fliplr(img)\n",
        "      elif rand == 2:\n",
        "        img_adj1 = np.rot90(img, 1, [0,1])\n",
        "      labels = np.append(labels,label_no)\n",
        "      adj_data.append(img_adj1)\n",
        "\n",
        "    #data augmentation 2: eliminate patch of size 12x12 from image\n",
        "    if i in eliminate_idx:\n",
        "      q=64\n",
        "      P=q*q\n",
        "      ps=12\n",
        "      IDX = np.random.randint(P)\n",
        "      x0, y0 = np.unravel_index(IDX,(q,q))\n",
        "      x, y, x1, y1 = x0, y0, x0 + ps, y0 + ps\n",
        "      img[x:x1, y:y1,:] = 0.0\n",
        "      img_adj3 = img\n",
        "      labels = np.append(labels, label_no)\n",
        "      adj_data.append(img_adj3)\n",
        "\n",
        "    #append images to array every 1000 images to save memory\n",
        "    if (i+1) % 1000 == 0:\n",
        "      data = np.append(data, np.array(adj_data, dtype = np.float16), axis = 0)\n",
        "      adj_data = []\n",
        "\n",
        "  # unique, counts = np.unique(labels, return_counts=True)\n",
        "\n",
        "  # size = min(counts)\n",
        "  # adj_indices = []\n",
        "  # for i in range(len(classes)):\n",
        "  #     old_indices = [idx for idx, value in enumerate(labels) if value == i]\n",
        "  #     new_sample = np.random.choice(old_indices, size, replace = False)\n",
        "  #     adj_indices.extend(new_sample)\n",
        "\n",
        "\n",
        "  return data, labels"
      ]
    },
    {
      "cell_type": "code",
      "execution_count": 29,
      "metadata": {
        "id": "lnSl9gYXXjeI"
      },
      "outputs": [],
      "source": [
        "data, labels = data_augmentation(data, labels)"
      ]
    },
    {
      "cell_type": "code",
      "execution_count": 30,
      "metadata": {
        "id": "rPr_-jMz9-rH",
        "colab": {
          "base_uri": "https://localhost:8080/"
        },
        "outputId": "370db269-6967-48d2-cdb7-bea59d5fdb98"
      },
      "outputs": [
        {
          "output_type": "stream",
          "name": "stdout",
          "text": [
            "data shape:  (43200, 64, 64, 14)\n",
            "labels shape:  (43200,)\n"
          ]
        }
      ],
      "source": [
        "print(\"data shape: \", data.shape)\n",
        "print(\"labels shape: \", labels.shape)"
      ]
    },
    {
      "cell_type": "markdown",
      "metadata": {
        "id": "v2kL4N3N-1-n"
      },
      "source": [
        "### **4.4 Creation of own training and test set**\n",
        "We created an own training and test set (80/20) to potentially detect overfitting. Additionally, be put our samples into random order."
      ]
    },
    {
      "cell_type": "code",
      "execution_count": 31,
      "metadata": {
        "id": "cSD_JYWF3LJt"
      },
      "outputs": [],
      "source": [
        "def randomize(data,labels):\n",
        "  \"\"\"Input: 4D Array with images of shape (NxHxWxC); 1D Array of Labels.\n",
        "  Brings data into random order.\n",
        "  Output: 4D Array with randomly ordered images of shape (NxHxWxC), 1D Array of randomly ordered labels.\"\"\"\n",
        "\n",
        "  N = len(labels)\n",
        "  rand_idx = np.random.choice(N, size = N, replace = False)\n",
        "  data = data[rand_idx]\n",
        "  labels = labels[rand_idx]\n",
        "  return data, labels"
      ]
    },
    {
      "cell_type": "code",
      "execution_count": 32,
      "metadata": {
        "id": "1AyzQ2GFL7l-"
      },
      "outputs": [],
      "source": [
        "def train_test(data, labels, test_size_perc = 0.2):\n",
        "  \"\"\"Input: 4D Array with images of shape (NxHxWxC); 1D Array of Labels.\n",
        "  Divides data into training and our own set of evaluation data to potentially identify overfitting.\n",
        "  Output: 4D Pytorch Tensor with training images of shape (NxHxWxC), 1D Pytorch Tensor of training labels,\n",
        "          4D Pytorch Tensor with test images of shape (NxHxWxC), 1D Pytorch Tensor of test labels\"\"\"\n",
        "\n",
        "  data, labels = randomize(data, labels)\n",
        "\n",
        "  test_size = int(test_size_perc*len(data))\n",
        "  testset_idx = np.random.choice(len(data), size = test_size, replace = False)\n",
        "\n",
        "  input_test = np.moveaxis(data[testset_idx], 3,1)\n",
        "  target_test = labels[testset_idx]\n",
        "\n",
        "  input_train = np.moveaxis(np.delete(data, testset_idx, axis = 0), 3, 1)\n",
        "  target_train = np.delete(labels, testset_idx, axis = 0)\n",
        "\n",
        "  return torch.from_numpy(input_train), torch.from_numpy(target_train), torch.from_numpy(input_test), torch.from_numpy(target_test)"
      ]
    },
    {
      "cell_type": "code",
      "execution_count": 33,
      "metadata": {
        "id": "XAtwSSX41yL3"
      },
      "outputs": [],
      "source": [
        "train_data, train_labels, test_data, test_labels = train_test(data, labels)"
      ]
    },
    {
      "cell_type": "code",
      "execution_count": 34,
      "metadata": {
        "id": "oLJ4d_N9BQ3S",
        "colab": {
          "base_uri": "https://localhost:8080/"
        },
        "outputId": "17b8608b-8bc3-4183-f08f-522043e5c547"
      },
      "outputs": [
        {
          "output_type": "stream",
          "name": "stdout",
          "text": [
            "Number of train samples:  34560\n",
            "Number of test samples:  8640\n"
          ]
        }
      ],
      "source": [
        "print(\"Number of train samples: \", train_data.shape[0])\n",
        "print(\"Number of test samples: \", test_data.shape[0])"
      ]
    },
    {
      "cell_type": "markdown",
      "metadata": {
        "id": "s99YuDd9_I9i"
      },
      "source": [
        "## **5. Neural Network Implementation**"
      ]
    },
    {
      "cell_type": "markdown",
      "metadata": {
        "id": "oNYaclhsASZ4"
      },
      "source": [
        "**Model architecture**:\n",
        "\n",
        "* CNN with three layers (32, 64, 128)\n",
        "* Kernel size: 5x5 (padding: 2)\n",
        "* Max pooling after each layer\n",
        "\n",
        "* Fully connected NN with three layers (2048, 2048, 10)\n",
        "* Activation function: ReLu (last layer: Softmax)\n"
      ]
    },
    {
      "cell_type": "code",
      "execution_count": 35,
      "metadata": {
        "id": "z32yRR4qZOH-"
      },
      "outputs": [],
      "source": [
        "# implement the Eurosat network architecture\n",
        "class EurosatNet(nn.Module):\n",
        "\n",
        "    # define the class constructor\n",
        "    def __init__(self):\n",
        "\n",
        "        # call super class constructor\n",
        "        super(EurosatNet, self).__init__()\n",
        "\n",
        "        # specify convolution layer 1\n",
        "        self.conv1 = nn.Conv2d(in_channels=14, out_channels=32, kernel_size=7, stride=1, padding=3)\n",
        "\n",
        "        # define max-pooling layer 1\n",
        "        self.pool1 = nn.MaxPool2d(kernel_size=2, stride=2)\n",
        "\n",
        "        # specify convolution layer 2\n",
        "        self.conv2 = nn.Conv2d(in_channels=32, out_channels=64, kernel_size=7, stride=1, padding=3)\n",
        "\n",
        "        # define max-pooling layer 2\n",
        "        self.pool2 = nn.MaxPool2d(kernel_size=2, stride=2)\n",
        "\n",
        "        # specify convolution layer 3\n",
        "        self.conv3 = nn.Conv2d(in_channels=64, out_channels=128, kernel_size=7, stride=1, padding=3)\n",
        "\n",
        "        # define max-pooling layer 2\n",
        "        self.pool3 = nn.MaxPool2d(kernel_size=2, stride=2)\n",
        "\n",
        "        # specify fc layer 1 - in 128 * 8 * 8, out 2048\n",
        "        self.linear1 = nn.Linear(128 * 8 * 8, 2048, bias=True) # the linearity W*x+b\n",
        "        self.relu1 = nn.ReLU(inplace=True) # the non-linearity\n",
        "\n",
        "        # specify fc layer 2 - in 2048, out 2048\n",
        "        self.linear2 = nn.Linear(2048, 2048, bias=True) # the linearity W*x+b\n",
        "        self.relu2 = nn.ReLU(inplace=True) # the non-linarity\n",
        "\n",
        "        # specify fc layer 3 - in 2048, out 10\n",
        "        self.linear3 = nn.Linear(2048, 10) # the linearity W*x+b\n",
        "        self.relu3 = nn.ReLU(inplace=True) # the non-linarity\n",
        "\n",
        "        # add a softmax to the last layer\n",
        "        self.logsoftmax = nn.LogSoftmax(dim=1) # the softmax\n",
        "\n",
        "    # define network forward pass\n",
        "    def forward(self, images):\n",
        "\n",
        "        # high-level feature learning via convolutional layers\n",
        "\n",
        "        # define conv layer 1 forward pass\n",
        "        x = self.pool1(self.relu1(self.conv1(images)))\n",
        "\n",
        "        # define conv layer 2 forward pass\n",
        "        x = self.pool2(self.relu2(self.conv2(x)))\n",
        "\n",
        "        # define conv layer 3 forward pass\n",
        "        x = self.pool3(self.relu3(self.conv3(x)))\n",
        "\n",
        "        # feature flattening\n",
        "\n",
        "        # reshape image pixels\n",
        "        x = x.view(-1, 128*8*8)\n",
        "\n",
        "        # combination of feature learning via non-linear layers\n",
        "\n",
        "        # define fc layer 1 forward pass\n",
        "        x = self.relu1(self.linear1(x))\n",
        "\n",
        "        # define fc layer 2 forward pass\n",
        "        x = self.relu2(self.linear2(x))\n",
        "\n",
        "        # define layer 3 forward pass\n",
        "        x = self.logsoftmax(self.linear3(x))\n",
        "\n",
        "        # return forward pass result\n",
        "        return x"
      ]
    },
    {
      "cell_type": "markdown",
      "metadata": {
        "id": "EzJnz2rtGGXn"
      },
      "source": [
        "## **6. Neural Network Training**\n",
        "* Loss: negative log-likelihood\n",
        "* Optimizer: SGD\n",
        "* Number of parameters: 21,518,474\n",
        "* Learning rate: 0.001\n",
        "* Epochs: 200\n",
        "* Batch size: 64"
      ]
    },
    {
      "cell_type": "markdown",
      "metadata": {
        "id": "GQGj-dzRGibG"
      },
      "source": [
        "### **6.1 Preparing Network training**"
      ]
    },
    {
      "cell_type": "code",
      "execution_count": 36,
      "metadata": {
        "id": "XepsWLBNX5A8"
      },
      "outputs": [],
      "source": [
        "#initialize EurosatNet model\n",
        "model = EurosatNet()"
      ]
    },
    {
      "cell_type": "code",
      "execution_count": 37,
      "metadata": {
        "id": "bJmUsKFDrqms"
      },
      "outputs": [],
      "source": [
        "# device = 'cpu'"
      ]
    },
    {
      "cell_type": "code",
      "execution_count": 38,
      "metadata": {
        "id": "dMeJgb69e7bB"
      },
      "outputs": [],
      "source": [
        "#push the initialized EurosatNet model to the computing device that is enabled\n",
        "model = model.to(device)"
      ]
    },
    {
      "cell_type": "code",
      "execution_count": 39,
      "metadata": {
        "id": "Q3zIm5eYH1wT",
        "colab": {
          "base_uri": "https://localhost:8080/"
        },
        "outputId": "83cee88f-c203-4357-c3a8-d06262b3fdf7"
      },
      "outputs": [
        {
          "output_type": "stream",
          "name": "stdout",
          "text": [
            "[LOG] Number of to be trained EurosatNet model parameters: 21520042.\n"
          ]
        }
      ],
      "source": [
        "# init the number of model parameters\n",
        "num_params = 0\n",
        "\n",
        "# iterate over the distinct parameters\n",
        "for param in model.parameters():\n",
        "\n",
        "    # collect number of parameters\n",
        "    num_params += param.numel()\n",
        "\n",
        "# print the number of model paramters\n",
        "print('[LOG] Number of to be trained EurosatNet model parameters: {}.'.format(num_params))"
      ]
    },
    {
      "cell_type": "code",
      "execution_count": 40,
      "metadata": {
        "id": "52_CY_oxfEzD"
      },
      "outputs": [],
      "source": [
        "#define loss function and push it to enabled device\n",
        "nll_loss = nn.NLLLoss()\n",
        "nll_loss = nll_loss.to(device)"
      ]
    },
    {
      "cell_type": "code",
      "execution_count": 41,
      "metadata": {
        "id": "A_GLnLptgpoj"
      },
      "outputs": [],
      "source": [
        "# define learning rate and optimization strategy\n",
        "learning_rate = 0.001\n",
        "optimizer = optim.SGD(params=model.parameters(), lr=learning_rate)"
      ]
    },
    {
      "cell_type": "code",
      "execution_count": 42,
      "metadata": {
        "id": "78Nl79uOgsuB"
      },
      "outputs": [],
      "source": [
        "# specify the training parameters\n",
        "num_epochs = 50 #200 # number of training epochs\n",
        "mini_batch_size = 64 # size of the mini-batches"
      ]
    },
    {
      "cell_type": "code",
      "execution_count": 43,
      "metadata": {
        "id": "cigrsAJR83ea"
      },
      "outputs": [],
      "source": [
        "# transform training data to pytorch dataset\n",
        "train_dataset = torch.utils.data.TensorDataset(train_data, train_labels)"
      ]
    },
    {
      "cell_type": "code",
      "execution_count": 44,
      "metadata": {
        "id": "AO6RDgU7N4ul"
      },
      "outputs": [],
      "source": [
        "# transform test data to pytorch dataset\n",
        "test_dataset = torch.utils.data.TensorDataset(test_data, test_labels)"
      ]
    },
    {
      "cell_type": "code",
      "execution_count": 45,
      "metadata": {
        "id": "ZHDpNhXGPwNi"
      },
      "outputs": [],
      "source": [
        "# specifiy and instantiate PyTorch data loader that feeds the image tensors to our neural network\n",
        "train_dataloader = torch.utils.data.DataLoader(train_dataset, batch_size=mini_batch_size, shuffle=True)\n",
        "test_dataloader = torch.utils.data.DataLoader(test_dataset, batch_size=mini_batch_size, shuffle=True)"
      ]
    },
    {
      "cell_type": "code",
      "execution_count": 46,
      "metadata": {
        "id": "Crx4EEWMF0sC"
      },
      "outputs": [],
      "source": [
        "#define function to display accracy after each epoch during network training\n",
        "def get_accuracy(output, labels):\n",
        "  \"\"\"Input: Tensor with Output/Predictions, True labels\n",
        "    Calculates classification accuracy for given output\n",
        "    Output: float: accuracy\"\"\"\n",
        "\n",
        "  _, predicted = torch.max(output.data, 1)\n",
        "  total = labels.size(0)\n",
        "  correct = (predicted == labels).sum().item()\n",
        "  accuracy = correct / total\n",
        "  return accuracy"
      ]
    },
    {
      "cell_type": "markdown",
      "metadata": {
        "id": "S0FqUhj-GnG8"
      },
      "source": [
        "### **6.2 Running the Network training**"
      ]
    },
    {
      "cell_type": "markdown",
      "metadata": {
        "id": "03YJjamzkfga"
      },
      "source": [
        "We train our model and print the training and test loss, as well as training and test accuracy after each epoch."
      ]
    },
    {
      "cell_type": "code",
      "execution_count": 47,
      "metadata": {
        "id": "XpHQwZIfaE6Q",
        "colab": {
          "base_uri": "https://localhost:8080/"
        },
        "outputId": "61fde7c9-ee76-42ed-a11a-deecf1c939b5"
      },
      "outputs": [
        {
          "output_type": "stream",
          "name": "stdout",
          "text": [
            "[LOG 20240504-14:36:39] epoch: 0 train-loss: 2.2729 eval-loss: 2.1999 train-acc: 0.1509 test-acc: 0.1672 \n",
            "[LOG 20240504-14:36:51] epoch: 1 train-loss: 2.0505 eval-loss: 1.7827 train-acc: 0.2747 test-acc: 0.3547 \n",
            "[LOG 20240504-14:37:02] epoch: 2 train-loss: 1.5143 eval-loss: 1.2159 train-acc: 0.4652 test-acc: 0.5421 \n",
            "[LOG 20240504-14:37:14] epoch: 3 train-loss: 1.1113 eval-loss: 1.0328 train-acc: 0.572 test-acc: 0.594 \n",
            "[LOG 20240504-14:37:26] epoch: 4 train-loss: 0.9572 eval-loss: 0.8793 train-acc: 0.642 test-acc: 0.6694 \n",
            "[LOG 20240504-14:37:38] epoch: 5 train-loss: 0.8267 eval-loss: 0.7782 train-acc: 0.6993 test-acc: 0.7306 \n",
            "[LOG 20240504-14:37:50] epoch: 6 train-loss: 0.7214 eval-loss: 0.69 train-acc: 0.7484 test-acc: 0.7608 \n",
            "[LOG 20240504-14:38:02] epoch: 7 train-loss: 0.633 eval-loss: 0.5904 train-acc: 0.7809 test-acc: 0.8051 \n",
            "[LOG 20240504-14:38:14] epoch: 8 train-loss: 0.553 eval-loss: 0.5298 train-acc: 0.8118 test-acc: 0.8222 \n",
            "[LOG 20240504-14:38:39] epoch: 10 train-loss: 0.449 eval-loss: 0.4224 train-acc: 0.8488 test-acc: 0.8604 \n",
            "[LOG 20240504-14:38:51] epoch: 11 train-loss: 0.4193 eval-loss: 0.3916 train-acc: 0.8602 test-acc: 0.8708 \n",
            "[LOG 20240504-14:39:03] epoch: 12 train-loss: 0.3918 eval-loss: 0.3875 train-acc: 0.8686 test-acc: 0.8693 \n",
            "[LOG 20240504-14:39:15] epoch: 13 train-loss: 0.3724 eval-loss: 0.3872 train-acc: 0.876 test-acc: 0.8678 \n",
            "[LOG 20240504-14:39:27] epoch: 14 train-loss: 0.3537 eval-loss: 0.3507 train-acc: 0.8809 test-acc: 0.8847 \n",
            "[LOG 20240504-14:39:39] epoch: 15 train-loss: 0.3369 eval-loss: 0.3335 train-acc: 0.8876 test-acc: 0.8903 \n",
            "[LOG 20240504-14:39:51] epoch: 16 train-loss: 0.322 eval-loss: 0.3261 train-acc: 0.8922 test-acc: 0.89 \n",
            "[LOG 20240504-14:40:03] epoch: 17 train-loss: 0.3106 eval-loss: 0.3122 train-acc: 0.8965 test-acc: 0.8966 \n",
            "[LOG 20240504-14:40:15] epoch: 18 train-loss: 0.3001 eval-loss: 0.2808 train-acc: 0.9002 test-acc: 0.9093 \n",
            "[LOG 20240504-14:40:27] epoch: 19 train-loss: 0.2871 eval-loss: 0.2777 train-acc: 0.9028 test-acc: 0.9112 \n",
            "[LOG 20240504-14:40:39] epoch: 20 train-loss: 0.2783 eval-loss: 0.2755 train-acc: 0.907 test-acc: 0.9078 \n",
            "[LOG 20240504-14:40:51] epoch: 21 train-loss: 0.2703 eval-loss: 0.279 train-acc: 0.9101 test-acc: 0.9056 \n",
            "[LOG 20240504-14:41:04] epoch: 22 train-loss: 0.2608 eval-loss: 0.2536 train-acc: 0.9108 test-acc: 0.9147 \n",
            "[LOG 20240504-14:41:16] epoch: 23 train-loss: 0.2555 eval-loss: 0.2859 train-acc: 0.9136 test-acc: 0.9043 \n",
            "[LOG 20240504-14:41:28] epoch: 24 train-loss: 0.2491 eval-loss: 0.2462 train-acc: 0.9155 test-acc: 0.9175 \n",
            "[LOG 20240504-14:41:40] epoch: 25 train-loss: 0.2403 eval-loss: 0.2398 train-acc: 0.9189 test-acc: 0.9219 \n",
            "[LOG 20240504-14:41:52] epoch: 26 train-loss: 0.2332 eval-loss: 0.2455 train-acc: 0.9223 test-acc: 0.9193 \n",
            "[LOG 20240504-14:42:04] epoch: 27 train-loss: 0.2301 eval-loss: 0.259 train-acc: 0.9216 test-acc: 0.9138 \n",
            "[LOG 20240504-14:42:16] epoch: 28 train-loss: 0.2227 eval-loss: 0.2216 train-acc: 0.9251 test-acc: 0.9271 \n",
            "[LOG 20240504-14:42:28] epoch: 29 train-loss: 0.2175 eval-loss: 0.2261 train-acc: 0.9274 test-acc: 0.9266 \n",
            "[LOG 20240504-14:42:40] epoch: 30 train-loss: 0.2122 eval-loss: 0.2233 train-acc: 0.9282 test-acc: 0.9257 \n",
            "[LOG 20240504-14:42:52] epoch: 31 train-loss: 0.2093 eval-loss: 0.2272 train-acc: 0.9298 test-acc: 0.9262 \n",
            "[LOG 20240504-14:43:04] epoch: 32 train-loss: 0.2019 eval-loss: 0.2144 train-acc: 0.9324 test-acc: 0.9308 \n",
            "[LOG 20240504-14:43:16] epoch: 33 train-loss: 0.2018 eval-loss: 0.2147 train-acc: 0.9318 test-acc: 0.9307 \n",
            "[LOG 20240504-14:43:29] epoch: 34 train-loss: 0.1944 eval-loss: 0.201 train-acc: 0.9344 test-acc: 0.9362 \n",
            "[LOG 20240504-14:43:41] epoch: 35 train-loss: 0.1917 eval-loss: 0.2048 train-acc: 0.9365 test-acc: 0.9336 \n",
            "[LOG 20240504-14:43:53] epoch: 36 train-loss: 0.1849 eval-loss: 0.2041 train-acc: 0.9376 test-acc: 0.9317 \n",
            "[LOG 20240504-14:44:05] epoch: 37 train-loss: 0.1828 eval-loss: 0.1879 train-acc: 0.9383 test-acc: 0.9413 \n",
            "[LOG 20240504-14:44:17] epoch: 38 train-loss: 0.183 eval-loss: 0.1893 train-acc: 0.9387 test-acc: 0.9385 \n",
            "[LOG 20240504-14:44:29] epoch: 39 train-loss: 0.1775 eval-loss: 0.1841 train-acc: 0.9406 test-acc: 0.9427 \n",
            "[LOG 20240504-14:44:41] epoch: 40 train-loss: 0.1738 eval-loss: 0.1834 train-acc: 0.9415 test-acc: 0.9405 \n",
            "[LOG 20240504-14:44:53] epoch: 41 train-loss: 0.1696 eval-loss: 0.1818 train-acc: 0.9442 test-acc: 0.9402 \n",
            "[LOG 20240504-14:45:05] epoch: 42 train-loss: 0.17 eval-loss: 0.1919 train-acc: 0.9432 test-acc: 0.9346 \n",
            "[LOG 20240504-14:45:17] epoch: 43 train-loss: 0.1615 eval-loss: 0.1899 train-acc: 0.9453 test-acc: 0.9354 \n",
            "[LOG 20240504-14:45:29] epoch: 44 train-loss: 0.1596 eval-loss: 0.1965 train-acc: 0.9467 test-acc: 0.933 \n",
            "[LOG 20240504-14:45:42] epoch: 45 train-loss: 0.1572 eval-loss: 0.1748 train-acc: 0.9467 test-acc: 0.9427 \n",
            "[LOG 20240504-14:45:54] epoch: 46 train-loss: 0.155 eval-loss: 0.1634 train-acc: 0.9485 test-acc: 0.9459 \n",
            "[LOG 20240504-14:46:06] epoch: 47 train-loss: 0.1523 eval-loss: 0.1868 train-acc: 0.9479 test-acc: 0.9387 \n",
            "[LOG 20240504-14:46:18] epoch: 48 train-loss: 0.1509 eval-loss: 0.1683 train-acc: 0.9489 test-acc: 0.9442 \n",
            "[LOG 20240504-14:46:30] epoch: 49 train-loss: 0.148 eval-loss: 0.1544 train-acc: 0.9499 test-acc: 0.9498 \n"
          ]
        }
      ],
      "source": [
        "# init collection of training epoch losses\n",
        "train_epoch_losses = []\n",
        "test_epoch_losses = []\n",
        "train_epoch_accuracies = []\n",
        "test_epoch_accuracies = []\n",
        "\n",
        "# set the model in training mode\n",
        "model.train()\n",
        "\n",
        "# train the model\n",
        "for epoch in range(num_epochs):\n",
        "\n",
        "    # init collection of mini-batch losses\n",
        "    train_mini_batch_losses = []\n",
        "    test_mini_batch_losses = []\n",
        "    train_mini_batch_accuracy = []\n",
        "    test_mini_batch_accuracy = []\n",
        "\n",
        "    # iterate over all-mini batches\n",
        "    for i, (images, labels) in enumerate(train_dataloader):\n",
        "\n",
        "        #push batch on gpu\n",
        "        labels=labels.to(device, dtype = torch.int64)\n",
        "        images = images.to(device, dtype = torch.float32)\n",
        "\n",
        "\n",
        "        # run forward pass through the network\n",
        "        output = model(images)\n",
        "\n",
        "        # reset graph gradients\n",
        "        model.zero_grad()\n",
        "\n",
        "        # determine classification loss and accuracy\n",
        "        loss = nll_loss(output, labels)\n",
        "        accuracy = get_accuracy(output, labels)\n",
        "\n",
        "        # run backward pass\n",
        "        loss.backward()\n",
        "\n",
        "        # update network paramaters\n",
        "        optimizer.step()\n",
        "\n",
        "        # collect mini-batch reconstruction loss\n",
        "        train_mini_batch_losses.append(loss.data.item())\n",
        "        train_mini_batch_accuracy.append(accuracy)\n",
        "\n",
        "    # determine mean min-batch loss of epoch\n",
        "    train_epoch_loss = np.round(np.mean(train_mini_batch_losses),4)\n",
        "    train_epoch_accuracy = np.round(np.mean(train_mini_batch_accuracy),4)\n",
        "\n",
        "    #do the same as above for our own test set\n",
        "    with torch.no_grad():\n",
        "      for i, (images, labels) in enumerate(test_dataloader):\n",
        "        labels=labels.to(device, dtype = torch.int64)\n",
        "        images = images.to(device, dtype = torch.float32)\n",
        "        output = model(images)\n",
        "        loss = nll_loss(output, labels)\n",
        "        accuracy = get_accuracy(output, labels)\n",
        "        test_mini_batch_losses.append(loss.data.item())\n",
        "        test_mini_batch_accuracy.append(accuracy)\n",
        "      test_epoch_loss = np.round(np.mean(test_mini_batch_losses),4)\n",
        "      test_epoch_accuracy = np.round(np.mean(test_mini_batch_accuracy),4)\n",
        "\n",
        "    # print epoch loss and accuracy of training and test set\n",
        "    now = datetime.utcnow().strftime(\"%Y%m%d-%H:%M:%S\")\n",
        "    print('[LOG {}] epoch: {} train-loss: {} eval-loss: {} train-acc: {} test-acc: {} '.format(str(now), str(epoch), str(train_epoch_loss), str(test_epoch_loss), str(train_epoch_accuracy), str(test_epoch_accuracy)))\n",
        "\n",
        "    # save model to local directory\n",
        "    model_name = 'eurosat_model_epoch_{}.pth'.format(str(epoch))\n",
        "    info_dict = {\n",
        "    'epoch' : epoch,\n",
        "    'net_state' : model.state_dict(),\n",
        "    'optimizer_state' : optimizer.state_dict()}\n",
        "    torch.save(info_dict, os.path.join(\"./ConvNet/models_eurosat\", model_name))\n",
        "\n",
        "    # determine mean min-batch loss of epoch\n",
        "    train_epoch_losses.append(train_epoch_loss)\n",
        "    test_epoch_losses.append(test_epoch_loss)\n",
        "\n",
        "    train_epoch_accuracies.append(train_epoch_accuracy)\n",
        "    test_epoch_accuracies.append(test_epoch_accuracy)"
      ]
    },
    {
      "cell_type": "markdown",
      "metadata": {
        "id": "iLj91kwjkt3Z"
      },
      "source": [
        "**Plot Training Epochs vs Classification Error**"
      ]
    },
    {
      "cell_type": "code",
      "execution_count": 48,
      "metadata": {
        "id": "8gRpjHg5GGm6",
        "colab": {
          "base_uri": "https://localhost:8080/",
          "height": 477
        },
        "outputId": "b4a9bffb-eb6c-4dbf-eceb-9b42da5afc83"
      },
      "outputs": [
        {
          "output_type": "display_data",
          "data": {
            "text/plain": [
              "<Figure size 640x480 with 1 Axes>"
            ],
            "image/png": "[encoded data removed]"
          },
          "metadata": {}
        }
      ],
      "source": [
        "# prepare plot\n",
        "fig = plt.figure()\n",
        "ax = fig.add_subplot(111)\n",
        "\n",
        "# add grid\n",
        "ax.grid(linestyle='dotted')\n",
        "\n",
        "# plot the training epochs vs. the epochs' classification error\n",
        "ax.plot(np.array(range(1, len(train_epoch_losses)+1)), train_epoch_losses, label='training epoch loss (blue)')\n",
        "ax.plot(np.array(range(1, len(test_epoch_losses)+1)), test_epoch_losses, label='test epoch loss (orange)')\n",
        "\n",
        "\n",
        "# add axis legends\n",
        "ax.set_xlabel(\"[training epoch $e_i$]\", fontsize=10)\n",
        "ax.set_ylabel(\"[Classification Error $\\mathcal{L}^{NLL}$]\", fontsize=10)\n",
        "\n",
        "# set plot legend\n",
        "plt.legend(loc=\"upper right\", numpoints=1, fancybox=True)\n",
        "\n",
        "# add plot title\n",
        "plt.title('Training Epochs $e_i$ vs. Classification Error $L^{NLL}$', fontsize=10);"
      ]
    },
    {
      "cell_type": "markdown",
      "metadata": {
        "id": "vLEkPnu3k4fa"
      },
      "source": [
        "**Plot Training Epochs vs Classification Accuracy**"
      ]
    },
    {
      "cell_type": "code",
      "execution_count": 49,
      "metadata": {
        "id": "XtAGFXHTPaDL",
        "colab": {
          "base_uri": "https://localhost:8080/",
          "height": 473
        },
        "outputId": "c85fdf69-da55-42f9-f682-dda656e65d35"
      },
      "outputs": [
        {
          "output_type": "display_data",
          "data": {
            "text/plain": [
              "<Figure size 640x480 with 1 Axes>"
            ],
            "image/png": "[encoded data removed]"
          },
          "metadata": {}
        }
      ],
      "source": [
        "# prepare plot\n",
        "fig = plt.figure()\n",
        "ax = fig.add_subplot(111)\n",
        "\n",
        "# add grid\n",
        "ax.grid(linestyle='dotted')\n",
        "\n",
        "# plot the training epochs vs. the epochs' classification error\n",
        "ax.plot(np.array(range(1, len(train_epoch_accuracies)+1)), train_epoch_accuracies, label='training epoch accuracy (blue)')\n",
        "ax.plot(np.array(range(1, len(test_epoch_accuracies)+1)), test_epoch_accuracies, label='test epoch accuracy (blue)')\n",
        "\n",
        "\n",
        "# add axis legends\n",
        "ax.set_xlabel(\"[training epoch $e_i$]\", fontsize=10)\n",
        "ax.set_ylabel(\"[Classification Accuracy]\", fontsize=10)\n",
        "\n",
        "# set plot legend\n",
        "plt.legend(loc=\"lower right\", numpoints=1, fancybox=True)\n",
        "\n",
        "# add plot title\n",
        "plt.title('Training Epochs vs. Classification Accuracy', fontsize=10);"
      ]
    },
    {
      "cell_type": "markdown",
      "metadata": {
        "id": "7edyDeiSHVFZ"
      },
      "source": [
        "## **7. Neural Network Model Evaluation**"
      ]
    },
    {
      "cell_type": "markdown",
      "metadata": {
        "id": "oyqiRanVHZvD"
      },
      "source": [
        "### **7.1 Load best model**"
      ]
    },
    {
      "cell_type": "markdown",
      "metadata": {
        "id": "NSRJqu5Ak_pI"
      },
      "source": [
        "Load best model and push it to enabled device (in evaluation mode)."
      ]
    },
    {
      "cell_type": "code",
      "execution_count": 50,
      "metadata": {
        "id": "_T6n1GpO0XdG",
        "colab": {
          "base_uri": "https://localhost:8080/",
          "height": 35
        },
        "outputId": "3266b74f-a021-4baa-e4b4-bc0451a6d5b9"
      },
      "outputs": [
        {
          "output_type": "execute_result",
          "data": {
            "text/plain": [
              "'/content/ConvNet/models_eurosat/eurosat_model_epoch_49.pth'"
            ],
            "application/vnd.google.colaboratory.intrinsic+json": {
              "type": "string"
            }
          },
          "metadata": {},
          "execution_count": 50
        }
      ],
      "source": [
        "# best model is model with lowest test epoch loss (given that we see no significant overfitting before that in the above chart)\n",
        "\n",
        "#define best model\n",
        "best_model_name = '/content/ConvNet/models_eurosat/eurosat_model_epoch_{}.pth'.format(test_epoch_losses.index(min(test_epoch_losses)))\n",
        "manual_model_name = '/content/ConvNet/models_eurosat/eurosat_model_epoch_{}.pth'.format(50)\n",
        "# init pre-trained model class\n",
        "model = EurosatNet()\n",
        "learning_rate = 0.001\n",
        "optimizer = optim.SGD(params=model.parameters(), lr=learning_rate)\n",
        "\n",
        "best_model_name"
      ]
    },
    {
      "cell_type": "code",
      "execution_count": 51,
      "metadata": {
        "id": "2zX7B1SgV7zi"
      },
      "outputs": [],
      "source": [
        "def load_checkpoint(model, optimizer, filename):\n",
        "  \"\"\"Input: model, optimizer and filename where model states are stored.\n",
        "  Loads saved state of the model,\n",
        "  Outout: model, optimizer and start epoch of loaded model\"\"\"\n",
        "\n",
        "  # Note: Input model & optimizer should be pre-defined. This routine only updates their states.\n",
        "  if os.path.isfile(filename):\n",
        "      print(\"=> loading checkpoint '{}'\".format(filename))\n",
        "      checkpoint = torch.load(filename)\n",
        "      start_epoch = checkpoint['epoch']\n",
        "      model.load_state_dict(checkpoint['net_state'])\n",
        "      optimizer.load_state_dict(checkpoint['optimizer_state'])\n",
        "      print(\"=> loaded checkpoint '{}' (epoch {})\".format(filename, checkpoint['epoch']))\n",
        "  else:\n",
        "      print(\"=> no checkpoint found at '{}'\".format(filename))\n",
        "\n",
        "  return model, optimizer, start_epoch"
      ]
    },
    {
      "cell_type": "code",
      "execution_count": 52,
      "metadata": {
        "id": "fJLT7d8iWQ4L",
        "colab": {
          "base_uri": "https://localhost:8080/"
        },
        "outputId": "bf059e94-e94d-4972-99fb-f7ed5ae60feb"
      },
      "outputs": [
        {
          "output_type": "stream",
          "name": "stdout",
          "text": [
            "=> loading checkpoint '/content/ConvNet/models_eurosat/eurosat_model_epoch_49.pth'\n",
            "=> loaded checkpoint '/content/ConvNet/models_eurosat/eurosat_model_epoch_49.pth' (epoch 49)\n"
          ]
        }
      ],
      "source": [
        "# load model and optimizer state.\n",
        "model, optimizer, start_epoch = load_checkpoint(model, optimizer, best_model_name)\n",
        "#model, optimizer, start_epoch = load_checkpoint(model, optimizer, manual_model_name)"
      ]
    },
    {
      "cell_type": "code",
      "execution_count": 53,
      "metadata": {
        "id": "N2cVhUPU1YGl",
        "colab": {
          "base_uri": "https://localhost:8080/"
        },
        "outputId": "d2e87d92-b03f-41d3-9298-7cc5939c3c33"
      },
      "outputs": [
        {
          "output_type": "execute_result",
          "data": {
            "text/plain": [
              "EurosatNet(\n",
              "  (conv1): Conv2d(14, 32, kernel_size=(7, 7), stride=(1, 1), padding=(3, 3))\n",
              "  (pool1): MaxPool2d(kernel_size=2, stride=2, padding=0, dilation=1, ceil_mode=False)\n",
              "  (conv2): Conv2d(32, 64, kernel_size=(7, 7), stride=(1, 1), padding=(3, 3))\n",
              "  (pool2): MaxPool2d(kernel_size=2, stride=2, padding=0, dilation=1, ceil_mode=False)\n",
              "  (conv3): Conv2d(64, 128, kernel_size=(7, 7), stride=(1, 1), padding=(3, 3))\n",
              "  (pool3): MaxPool2d(kernel_size=2, stride=2, padding=0, dilation=1, ceil_mode=False)\n",
              "  (linear1): Linear(in_features=8192, out_features=2048, bias=True)\n",
              "  (relu1): ReLU(inplace=True)\n",
              "  (linear2): Linear(in_features=2048, out_features=2048, bias=True)\n",
              "  (relu2): ReLU(inplace=True)\n",
              "  (linear3): Linear(in_features=2048, out_features=10, bias=True)\n",
              "  (relu3): ReLU(inplace=True)\n",
              "  (logsoftmax): LogSoftmax(dim=1)\n",
              ")"
            ]
          },
          "metadata": {},
          "execution_count": 53
        }
      ],
      "source": [
        "# push model to enabled device\n",
        "model.to(device)\n",
        "\n",
        "# set model in evaluation mode\n",
        "model.eval()"
      ]
    },
    {
      "cell_type": "markdown",
      "metadata": {
        "id": "2ru-tl6pSEkg"
      },
      "source": [
        "### **7.2 Evaluate Model on own test data**\n",
        "\n"
      ]
    },
    {
      "cell_type": "code",
      "execution_count": 54,
      "metadata": {
        "id": "uknijpbBSJ04",
        "colab": {
          "base_uri": "https://localhost:8080/"
        },
        "outputId": "c0b1ea8a-0cae-452f-a504-88420d3f935c"
      },
      "outputs": [
        {
          "output_type": "stream",
          "name": "stdout",
          "text": [
            "\n",
            "Total predictions: 8640\n"
          ]
        }
      ],
      "source": [
        "# init collection of mini-batch losses\n",
        "predictions = []\n",
        "pred_labels = []\n",
        "\n",
        "# iterate over all-mini batches\n",
        "for i, (images, labels) in enumerate(test_dataloader):\n",
        "\n",
        "    # run forward pass through the network\n",
        "    images = images.to(device, dtype = torch.float32)\n",
        "    output = model(images)\n",
        "\n",
        "    # collect predictons\n",
        "    batch_predictions = torch.argmax(output, dim=1)\n",
        "\n",
        "    # collect mini-batch reconstruction loss\n",
        "    predictions.extend(batch_predictions.cpu().detach().numpy().tolist())\n",
        "    pred_labels.extend(labels.cpu().detach().numpy().tolist())\n",
        "\n",
        "print('\\nTotal predictions: {}'.format(len(predictions)))"
      ]
    },
    {
      "cell_type": "code",
      "execution_count": 55,
      "metadata": {
        "id": "BplwMtvVQjM7",
        "colab": {
          "base_uri": "https://localhost:8080/"
        },
        "outputId": "cfc64d76-0d26-4ad1-c55d-d4bc555e6d5c"
      },
      "outputs": [
        {
          "output_type": "stream",
          "name": "stdout",
          "text": [
            "Prediction accuracy for own test set: 0.9497685185185185\n"
          ]
        }
      ],
      "source": [
        "pred_acc = metrics.accuracy_score(pred_labels, predictions)\n",
        "print(\"Prediction accuracy for own test set: \" + str(pred_acc))"
      ]
    },
    {
      "cell_type": "code",
      "execution_count": 56,
      "metadata": {
        "id": "jJG0wizTSZqx",
        "colab": {
          "base_uri": "https://localhost:8080/",
          "height": 1000
        },
        "outputId": "60387b52-89ce-4924-d0e9-69bb51506210"
      },
      "outputs": [
        {
          "output_type": "display_data",
          "data": {
            "text/plain": [
              "<Figure size 1200x1200 with 1 Axes>"
            ],
            "image/png": "[encoded data removed]"
          },
          "metadata": {}
        }
      ],
      "source": [
        "import seaborn as sns\n",
        "\n",
        "# determine classification matrix of the predicted and target classes\n",
        "mat = confusion_matrix(pred_labels, predictions)\n",
        "\n",
        "# initialize the plot and define size\n",
        "plt.figure(figsize=(12, 12))\n",
        "\n",
        "# plot corresponding confusion matrix\n",
        "sns.heatmap(mat.T, square=True, annot=True, fmt='d', cbar=False, cmap='YlOrRd_r', xticklabels=classes, yticklabels=classes)\n",
        "plt.tick_params(axis='both', which='major', labelsize=8, labelbottom = False, bottom=False, top = False, left = False, labeltop=True)\n",
        "\n",
        "# set plot title\n",
        "plt.title('Eurosat classification matrix')\n",
        "\n",
        "# set plot axis lables\n",
        "plt.xlabel('[true label]')\n",
        "plt.ylabel('[predicted label]');"
      ]
    },
    {
      "cell_type": "markdown",
      "metadata": {
        "id": "TD-78y2cShtL"
      },
      "source": [
        "### **7.3 Model evaluation on official test data**"
      ]
    },
    {
      "cell_type": "markdown",
      "metadata": {
        "id": "XPhCqtBIKB6L"
      },
      "source": [
        "#### **7.3.1 Prepare official test data**\n",
        "Two main steps:\n",
        "1. Load all test samples\n",
        "2. Add NDVI Index and normalize data to match our training data preparation steps"
      ]
    },
    {
      "cell_type": "code",
      "execution_count": 57,
      "metadata": {
        "id": "RduXuqq5NR4v"
      },
      "outputs": [],
      "source": [
        "def create_testset(sample_paths):\n",
        "  \"\"\"Input: list of paths where samples are stored\n",
        "  Loads all test samples, adds NDVI Index and normalizes data to match our training data preparation.\n",
        "  Output: 4D array of test data images (NxHxWxC); 1D array of test labels\"\"\"\n",
        "\n",
        "  test_data = []\n",
        "  test_ids = []\n",
        "\n",
        "  # loop through paths to load each test sample\n",
        "  for i in range(len(sample_paths)):\n",
        "    sample = sample_paths[i]\n",
        "    number = sample.split('/')[-1].split('_')[1].split('.')[0]\n",
        "    img = np.load(sample)\n",
        "\n",
        "    #add NDMI index (B8A-B11)/(B8A+B11)\n",
        "    index = np.array((img[:,:,8]-img[:,:,10])/(img[:,:,8]+img[:,:,10]))\n",
        "    img = np.append(img, index.reshape(64,64,1), axis = 2)\n",
        "\n",
        "    #add NDVI index (B8-B4)/(B8+B4)\n",
        "    index = np.array((img[:,:,7]-img[:,:,3])/(img[:,:,7]+img[:,:,3]))\n",
        "    img = np.append(img, index.reshape(64,64,1), axis = 2)\n",
        "\n",
        "    test_ids.append(number)\n",
        "    test_data.append(np.array(img))\n",
        "\n",
        "  test_data = np.array(test_data)\n",
        "  test_data = normalize_data(test_data)\n",
        "  test_data = np.moveaxis(test_data, 3, 1)\n",
        "  test_ids = np.array(test_ids)\n",
        "  return test_data, test_ids"
      ]
    },
    {
      "cell_type": "code",
      "execution_count": 58,
      "metadata": {
        "id": "H4nHeLKMNR06",
        "colab": {
          "base_uri": "https://localhost:8080/"
        },
        "outputId": "71cee1da-8e6e-4c6d-9dc0-23392437fae2"
      },
      "outputs": [
        {
          "output_type": "stream",
          "name": "stderr",
          "text": [
            "<ipython-input-57-44737e89cc8d>:20: RuntimeWarning: invalid value encountered in divide\n",
            "  index = np.array((img[:,:,7]-img[:,:,3])/(img[:,:,7]+img[:,:,3]))\n"
          ]
        }
      ],
      "source": [
        "#create official testset and transform it into a pytorch Tensor.\n",
        "#error occurs due to NDVI index\n",
        "official_test_data, official_test_id = create_testset(test_samples)\n",
        "official_test_data_tensor = torch.from_numpy(np.array(official_test_data))"
      ]
    },
    {
      "cell_type": "code",
      "execution_count": 59,
      "metadata": {
        "id": "p-OOYWfIb667",
        "colab": {
          "base_uri": "https://localhost:8080/"
        },
        "outputId": "d9546bfb-1c1a-4838-b4d0-de2a2a9f3a17"
      },
      "outputs": [
        {
          "output_type": "stream",
          "name": "stdout",
          "text": [
            "Testset shape: (4232, 14, 64, 64)\n"
          ]
        }
      ],
      "source": [
        "print(\"Testset shape: \" + str(official_test_data.shape))"
      ]
    },
    {
      "cell_type": "code",
      "execution_count": 60,
      "metadata": {
        "id": "b2thCBBVffUD"
      },
      "outputs": [],
      "source": [
        "# specifiy and instantiate PyTorch data loader that feeds the image tensors to our neural network\n",
        "official_test_dataloader = torch.utils.data.DataLoader(official_test_data_tensor, batch_size=8, shuffle=False)"
      ]
    },
    {
      "cell_type": "markdown",
      "metadata": {
        "id": "5ok57rFALffk"
      },
      "source": [
        "#### **7.3.2 Evaluate official test set**"
      ]
    },
    {
      "cell_type": "code",
      "execution_count": 61,
      "metadata": {
        "id": "JSPpy7xHN8o2",
        "colab": {
          "base_uri": "https://localhost:8080/"
        },
        "outputId": "c6806b0f-c8d1-46a8-b7f8-faeab2627d3c"
      },
      "outputs": [
        {
          "output_type": "stream",
          "name": "stdout",
          "text": [
            "[LOG 20240504-14:46:45] 0 prediction(s) collected\n",
            "[LOG 20240504-14:46:45] 800 prediction(s) collected\n",
            "[LOG 20240504-14:46:45] 1600 prediction(s) collected\n",
            "[LOG 20240504-14:46:46] 2400 prediction(s) collected\n",
            "[LOG 20240504-14:46:46] 3200 prediction(s) collected\n",
            "[LOG 20240504-14:46:46] 4000 prediction(s) collected\n",
            "\n",
            "Total predictions: 4232\n"
          ]
        }
      ],
      "source": [
        "# init collection of mini-batch losses\n",
        "predictions = []\n",
        "\n",
        "# iterate over all-mini batches\n",
        "for i, images in enumerate(official_test_dataloader):\n",
        "\n",
        "    # run forward pass through the network\n",
        "    images = images.to(device, dtype = torch.float32)\n",
        "    output = model(images)\n",
        "\n",
        "    # collect predictons\n",
        "    batch_predictions = torch.argmax(output, dim=1)\n",
        "\n",
        "    # print log each 100 evaluation mini-batch\n",
        "    if i % 100 == 0:\n",
        "\n",
        "      # print mini-batch loss loss\n",
        "      now = datetime.utcnow().strftime(\"%Y%m%d-%H:%M:%S\")\n",
        "      # multiply the number of mini-batches (i) by their size (8 images per mini-batch)\n",
        "      print('[LOG {}] {} prediction(s) collected'.format(str(now), str(i*8)))\n",
        "\n",
        "    # collect mini-batch reconstruction loss\n",
        "    predictions.extend(batch_predictions.cpu().detach().numpy().tolist())\n",
        "    # pred_labels.extend(labels.cpu().detach().numpy().tolist())\n",
        "\n",
        "print('\\nTotal predictions: {}'.format(len(predictions)))"
      ]
    },
    {
      "cell_type": "markdown",
      "metadata": {
        "id": "X0uimuQ4LtoR"
      },
      "source": [
        "#### **7.3.3 Transform output into Kaggle format**"
      ]
    },
    {
      "cell_type": "code",
      "execution_count": 62,
      "metadata": {
        "id": "4OkjKIwRZVhZ"
      },
      "outputs": [],
      "source": [
        "import pandas as pd\n",
        "\n",
        "def create_output(predictions, test_ids):\n",
        "  \"\"\"Input: list of predictions, list of test_ids.\n",
        "  Links prediction list to test_id and creates a corresponding dataframe.\n",
        "  Output: Pandas dataframe\"\"\"\n",
        "\n",
        "  output = {}\n",
        "  for i in range(len(predictions)):\n",
        "    no = test_ids[i]\n",
        "    output[no] = classes[predictions[i]]\n",
        "  df = pd.DataFrame(output.items(), columns = ['test_id', 'label'])\n",
        "  return df"
      ]
    },
    {
      "cell_type": "code",
      "execution_count": 63,
      "metadata": {
        "id": "Lu3RFrnfe8FZ"
      },
      "outputs": [],
      "source": [
        "result_df = create_output(predictions, official_test_id)"
      ]
    },
    {
      "cell_type": "code",
      "execution_count": 64,
      "metadata": {
        "id": "8ufMA38wp-4w",
        "colab": {
          "base_uri": "https://localhost:8080/",
          "height": 359
        },
        "outputId": "069ea2b1-1afc-484b-b864-74aca843af56"
      },
      "outputs": [
        {
          "output_type": "execute_result",
          "data": {
            "text/plain": [
              "  test_id       label\n",
              "0     626  AnnualCrop\n",
              "1     194     SeaLake\n",
              "2    2744       River\n",
              "3     185     Pasture\n",
              "4    1726  AnnualCrop\n",
              "5     934     Pasture\n",
              "6    2566     SeaLake\n",
              "7    2210     SeaLake\n",
              "8    3954      Forest\n",
              "9     667     SeaLake"
            ],
            "text/html": [
              "\n",
              "  <div id=\"df-7097d93c-4289-4946-982e-465fffed6700\" class=\"colab-df-container\">\n",
              "    <div>\n",
              "<style scoped>\n",
              "    .dataframe tbody tr th:only-of-type {\n",
              "        vertical-align: middle;\n",
              "    }\n",
              "\n",
              "    .dataframe tbody tr th {\n",
              "        vertical-align: top;\n",
              "    }\n",
              "\n",
              "    .dataframe thead th {\n",
              "        text-align: right;\n",
              "    }\n",
              "</style>\n",
              "<table border=\"1\" class=\"dataframe\">\n",
              "  <thead>\n",
              "    <tr style=\"text-align: right;\">\n",
              "      <th></th>\n",
              "      <th>test_id</th>\n",
              "      <th>label</th>\n",
              "    </tr>\n",
              "  </thead>\n",
              "  <tbody>\n",
              "    <tr>\n",
              "      <th>0</th>\n",
              "      <td>626</td>\n",
              "      <td>AnnualCrop</td>\n",
              "    </tr>\n",
              "    <tr>\n",
              "      <th>1</th>\n",
              "      <td>194</td>\n",
              "      <td>SeaLake</td>\n",
              "    </tr>\n",
              "    <tr>\n",
              "      <th>2</th>\n",
              "      <td>2744</td>\n",
              "      <td>River</td>\n",
              "    </tr>\n",
              "    <tr>\n",
              "      <th>3</th>\n",
              "      <td>185</td>\n",
              "      <td>Pasture</td>\n",
              "    </tr>\n",
              "    <tr>\n",
              "      <th>4</th>\n",
              "      <td>1726</td>\n",
              "      <td>AnnualCrop</td>\n",
              "    </tr>\n",
              "    <tr>\n",
              "      <th>5</th>\n",
              "      <td>934</td>\n",
              "      <td>Pasture</td>\n",
              "    </tr>\n",
              "    <tr>\n",
              "      <th>6</th>\n",
              "      <td>2566</td>\n",
              "      <td>SeaLake</td>\n",
              "    </tr>\n",
              "    <tr>\n",
              "      <th>7</th>\n",
              "      <td>2210</td>\n",
              "      <td>SeaLake</td>\n",
              "    </tr>\n",
              "    <tr>\n",
              "      <th>8</th>\n",
              "      <td>3954</td>\n",
              "      <td>Forest</td>\n",
              "    </tr>\n",
              "    <tr>\n",
              "      <th>9</th>\n",
              "      <td>667</td>\n",
              "      <td>SeaLake</td>\n",
              "    </tr>\n",
              "  </tbody>\n",
              "</table>\n",
              "</div>\n",
              "    <div class=\"colab-df-buttons\">\n",
              "\n",
              "  <div class=\"colab-df-container\">\n",
              "    <button class=\"colab-df-convert\" onclick=\"convertToInteractive('df-7097d93c-4289-4946-982e-465fffed6700')\"\n",
              "            title=\"Convert this dataframe to an interactive table.\"\n",
              "            style=\"display:none;\">\n",
              "\n",
              "  <svg xmlns=\"http://www.w3.org/2000/svg\" height=\"24px\" viewBox=\"0 -960 960 960\">\n",
              "    <path d=\"M120-120v-720h720v720H120Zm60-500h600v-160H180v160Zm220 220h160v-160H400v160Zm0 220h160v-160H400v160ZM180-400h160v-160H180v160Zm440 0h160v-160H620v160ZM180-180h160v-160H180v160Zm440 0h160v-160H620v160Z\"/>\n",
              "  </svg>\n",
              "    </button>\n",
              "\n",
              "  <style>\n",
              "    .colab-df-container {\n",
              "      display:flex;\n",
              "      gap: 12px;\n",
              "    }\n",
              "\n",
              "    .colab-df-convert {\n",
              "      background-color: #E8F0FE;\n",
              "      border: none;\n",
              "      border-radius: 50%;\n",
              "      cursor: pointer;\n",
              "      display: none;\n",
              "      fill: #1967D2;\n",
              "      height: 32px;\n",
              "      padding: 0 0 0 0;\n",
              "      width: 32px;\n",
              "    }\n",
              "\n",
              "    .colab-df-convert:hover {\n",
              "      background-color: #E2EBFA;\n",
              "      box-shadow: 0px 1px 2px rgba(60, 64, 67, 0.3), 0px 1px 3px 1px rgba(60, 64, 67, 0.15);\n",
              "      fill: #174EA6;\n",
              "    }\n",
              "\n",
              "    .colab-df-buttons div {\n",
              "      margin-bottom: 4px;\n",
              "    }\n",
              "\n",
              "    [theme=dark] .colab-df-convert {\n",
              "      background-color: #3B4455;\n",
              "      fill: #D2E3FC;\n",
              "    }\n",
              "\n",
              "    [theme=dark] .colab-df-convert:hover {\n",
              "      background-color: #434B5C;\n",
              "      box-shadow: 0px 1px 3px 1px rgba(0, 0, 0, 0.15);\n",
              "      filter: drop-shadow(0px 1px 2px rgba(0, 0, 0, 0.3));\n",
              "      fill: #FFFFFF;\n",
              "    }\n",
              "  </style>\n",
              "\n",
              "    <script>\n",
              "      const buttonEl =\n",
              "        document.querySelector('#df-7097d93c-4289-4946-982e-465fffed6700 button.colab-df-convert');\n",
              "      buttonEl.style.display =\n",
              "        google.colab.kernel.accessAllowed ? 'block' : 'none';\n",
              "\n",
              "      async function convertToInteractive(key) {\n",
              "        const element = document.querySelector('#df-7097d93c-4289-4946-982e-465fffed6700');\n",
              "        const dataTable =\n",
              "          await google.colab.kernel.invokeFunction('convertToInteractive',\n",
              "                                                    [key], {});\n",
              "        if (!dataTable) return;\n",
              "\n",
              "        const docLinkHtml = 'Like what you see? Visit the ' +\n",
              "          '<a target=\"_blank\" href=https://colab.research.google.com/notebooks/data_table.ipynb>data table notebook</a>'\n",
              "          + ' to learn more about interactive tables.';\n",
              "        element.innerHTML = '';\n",
              "        dataTable['output_type'] = 'display_data';\n",
              "        await google.colab.output.renderOutput(dataTable, element);\n",
              "        const docLink = document.createElement('div');\n",
              "        docLink.innerHTML = docLinkHtml;\n",
              "        element.appendChild(docLink);\n",
              "      }\n",
              "    </script>\n",
              "  </div>\n",
              "\n",
              "\n",
              "<div id=\"df-4c936e3d-afd5-4251-9f09-b80835e40193\">\n",
              "  <button class=\"colab-df-quickchart\" onclick=\"quickchart('df-4c936e3d-afd5-4251-9f09-b80835e40193')\"\n",
              "            title=\"Suggest charts\"\n",
              "            style=\"display:none;\">\n",
              "\n",
              "<svg xmlns=\"http://www.w3.org/2000/svg\" height=\"24px\"viewBox=\"0 0 24 24\"\n",
              "     width=\"24px\">\n",
              "    <g>\n",
              "        <path d=\"M19 3H5c-1.1 0-2 .9-2 2v14c0 1.1.9 2 2 2h14c1.1 0 2-.9 2-2V5c0-1.1-.9-2-2-2zM9 17H7v-7h2v7zm4 0h-2V7h2v10zm4 0h-2v-4h2v4z\"/>\n",
              "    </g>\n",
              "</svg>\n",
              "  </button>\n",
              "\n",
              "<style>\n",
              "  .colab-df-quickchart {\n",
              "      --bg-color: #E8F0FE;\n",
              "      --fill-color: #1967D2;\n",
              "      --hover-bg-color: #E2EBFA;\n",
              "      --hover-fill-color: #174EA6;\n",
              "      --disabled-fill-color: #AAA;\n",
              "      --disabled-bg-color: #DDD;\n",
              "  }\n",
              "\n",
              "  [theme=dark] .colab-df-quickchart {\n",
              "      --bg-color: #3B4455;\n",
              "      --fill-color: #D2E3FC;\n",
              "      --hover-bg-color: #434B5C;\n",
              "      --hover-fill-color: #FFFFFF;\n",
              "      --disabled-bg-color: #3B4455;\n",
              "      --disabled-fill-color: #666;\n",
              "  }\n",
              "\n",
              "  .colab-df-quickchart {\n",
              "    background-color: var(--bg-color);\n",
              "    border: none;\n",
              "    border-radius: 50%;\n",
              "    cursor: pointer;\n",
              "    display: none;\n",
              "    fill: var(--fill-color);\n",
              "    height: 32px;\n",
              "    padding: 0;\n",
              "    width: 32px;\n",
              "  }\n",
              "\n",
              "  .colab-df-quickchart:hover {\n",
              "    background-color: var(--hover-bg-color);\n",
              "    box-shadow: 0 1px 2px rgba(60, 64, 67, 0.3), 0 1px 3px 1px rgba(60, 64, 67, 0.15);\n",
              "    fill: var(--button-hover-fill-color);\n",
              "  }\n",
              "\n",
              "  .colab-df-quickchart-complete:disabled,\n",
              "  .colab-df-quickchart-complete:disabled:hover {\n",
              "    background-color: var(--disabled-bg-color);\n",
              "    fill: var(--disabled-fill-color);\n",
              "    box-shadow: none;\n",
              "  }\n",
              "\n",
              "  .colab-df-spinner {\n",
              "    border: 2px solid var(--fill-color);\n",
              "    border-color: transparent;\n",
              "    border-bottom-color: var(--fill-color);\n",
              "    animation:\n",
              "      spin 1s steps(1) infinite;\n",
              "  }\n",
              "\n",
              "  @keyframes spin {\n",
              "    0% {\n",
              "      border-color: transparent;\n",
              "      border-bottom-color: var(--fill-color);\n",
              "      border-left-color: var(--fill-color);\n",
              "    }\n",
              "    20% {\n",
              "      border-color: transparent;\n",
              "      border-left-color: var(--fill-color);\n",
              "      border-top-color: var(--fill-color);\n",
              "    }\n",
              "    30% {\n",
              "      border-color: transparent;\n",
              "      border-left-color: var(--fill-color);\n",
              "      border-top-color: var(--fill-color);\n",
              "      border-right-color: var(--fill-color);\n",
              "    }\n",
              "    40% {\n",
              "      border-color: transparent;\n",
              "      border-right-color: var(--fill-color);\n",
              "      border-top-color: var(--fill-color);\n",
              "    }\n",
              "    60% {\n",
              "      border-color: transparent;\n",
              "      border-right-color: var(--fill-color);\n",
              "    }\n",
              "    80% {\n",
              "      border-color: transparent;\n",
              "      border-right-color: var(--fill-color);\n",
              "      border-bottom-color: var(--fill-color);\n",
              "    }\n",
              "    90% {\n",
              "      border-color: transparent;\n",
              "      border-bottom-color: var(--fill-color);\n",
              "    }\n",
              "  }\n",
              "</style>\n",
              "\n",
              "  <script>\n",
              "    async function quickchart(key) {\n",
              "      const quickchartButtonEl =\n",
              "        document.querySelector('#' + key + ' button');\n",
              "      quickchartButtonEl.disabled = true;  // To prevent multiple clicks.\n",
              "      quickchartButtonEl.classList.add('colab-df-spinner');\n",
              "      try {\n",
              "        const charts = await google.colab.kernel.invokeFunction(\n",
              "            'suggestCharts', [key], {});\n",
              "      } catch (error) {\n",
              "        console.error('Error during call to suggestCharts:', error);\n",
              "      }\n",
              "      quickchartButtonEl.classList.remove('colab-df-spinner');\n",
              "      quickchartButtonEl.classList.add('colab-df-quickchart-complete');\n",
              "    }\n",
              "    (() => {\n",
              "      let quickchartButtonEl =\n",
              "        document.querySelector('#df-4c936e3d-afd5-4251-9f09-b80835e40193 button');\n",
              "      quickchartButtonEl.style.display =\n",
              "        google.colab.kernel.accessAllowed ? 'block' : 'none';\n",
              "    })();\n",
              "  </script>\n",
              "</div>\n",
              "    </div>\n",
              "  </div>\n"
            ],
            "application/vnd.google.colaboratory.intrinsic+json": {
              "type": "dataframe",
              "variable_name": "result_df",
              "summary": "{\n  \"name\": \"result_df\",\n  \"rows\": 4232,\n  \"fields\": [\n    {\n      \"column\": \"test_id\",\n      \"properties\": {\n        \"dtype\": \"string\",\n        \"num_unique_values\": 4232,\n        \"samples\": [\n          \"2527\",\n          \"610\",\n          \"2657\"\n        ],\n        \"semantic_type\": \"\",\n        \"description\": \"\"\n      }\n    },\n    {\n      \"column\": \"label\",\n      \"properties\": {\n        \"dtype\": \"category\",\n        \"num_unique_values\": 10,\n        \"samples\": [\n          \"PermanentCrop\",\n          \"SeaLake\",\n          \"Industrial\"\n        ],\n        \"semantic_type\": \"\",\n        \"description\": \"\"\n      }\n    }\n  ]\n}"
            }
          },
          "metadata": {},
          "execution_count": 64
        }
      ],
      "source": [
        "result_df.head(10)"
      ]
    },
    {
      "cell_type": "code",
      "execution_count": 65,
      "metadata": {
        "id": "a0qKVlxEH2Ja",
        "colab": {
          "base_uri": "https://localhost:8080/"
        },
        "outputId": "1392d495-d7f9-407a-eec1-b6862bd338d9"
      },
      "outputs": [
        {
          "output_type": "execute_result",
          "data": {
            "text/plain": [
              "label\n",
              "SeaLake                 1018\n",
              "Highway                  776\n",
              "Forest                   594\n",
              "AnnualCrop               569\n",
              "Pasture                  417\n",
              "Industrial               296\n",
              "River                    195\n",
              "Residential              191\n",
              "PermanentCrop            174\n",
              "HerbaceousVegetation       2\n",
              "Name: count, dtype: int64"
            ]
          },
          "metadata": {},
          "execution_count": 65
        }
      ],
      "source": [
        "#quick plausability check by looking at the distribution of classified labels\n",
        "result_df.label.value_counts()"
      ]
    },
    {
      "cell_type": "code",
      "execution_count": 66,
      "metadata": {
        "id": "jCeZ5b7bZ6U-"
      },
      "outputs": [],
      "source": [
        "# export to csv file\n",
        "result_df.to_csv('schnitzel_bratwürst_classification.csv', index = False)"
      ]
    }
  ],
  "metadata": {
    "accelerator": "GPU",
    "colab": {
      "gpuType": "L4",
      "provenance": [],
      "collapsed_sections": [
        "2cF3F1pHstnW",
        "Es0ttqq6bVoT",
        "lcq7eAExxHUp"
      ],
      "include_colab_link": true
    },
    "kernelspec": {
      "display_name": "Python 3",
      "name": "python3"
    },
    "language_info": {
      "codemirror_mode": {
        "name": "ipython",
        "version": 3
      },
      "file_extension": ".py",
      "mimetype": "text/x-python",
      "name": "python",
      "nbconvert_exporter": "python",
      "pygments_lexer": "ipython3",
      "version": "3.8.5"
    }
  },
  "nbformat": 4,
  "nbformat_minor": 0
}